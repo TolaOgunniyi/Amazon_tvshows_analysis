{
 "cells": [
  {
   "cell_type": "code",
   "execution_count": 15,
   "id": "a65ece01",
   "metadata": {},
   "outputs": [],
   "source": [
    "import pandas as pd\n",
    "import numpy as np"
   ]
  },
  {
   "cell_type": "markdown",
   "id": "5fff2ca3",
   "metadata": {},
   "source": [
    "#### Dataset: Amazon Prime TV shows and titles.\n",
    "\n",
    "- The goal of this project is exploratory data analysis to potentially derive interesting and valuable insights about Amazon TV shows and titles.\n",
    "- Two (2) csv files are available for use in this project and  are derived from the Kaggle (link is provided below)\n",
    "- Source of data: https://www.kaggle.com/datasets/victorsoeiro/amazon-prime-tv-shows-and-movies?resource=download&select=titles.csv"
   ]
  },
  {
   "cell_type": "code",
   "execution_count": 16,
   "id": "d32e18c0",
   "metadata": {},
   "outputs": [],
   "source": [
    "# Load the csv files Amazon Prime TV shows\n",
    "tv_credits = pd.read_csv(r'C:\\Users\\LuisV\\Desktop\\UDACITY\\Portfolio\\Amazon Prime TV shows and titles\\amazon_project\\credits.csv')"
   ]
  },
  {
   "cell_type": "code",
   "execution_count": 17,
   "id": "a8af1c6d",
   "metadata": {},
   "outputs": [
    {
     "data": {
      "text/html": [
       "<div>\n",
       "<style scoped>\n",
       "    .dataframe tbody tr th:only-of-type {\n",
       "        vertical-align: middle;\n",
       "    }\n",
       "\n",
       "    .dataframe tbody tr th {\n",
       "        vertical-align: top;\n",
       "    }\n",
       "\n",
       "    .dataframe thead th {\n",
       "        text-align: right;\n",
       "    }\n",
       "</style>\n",
       "<table border=\"1\" class=\"dataframe\">\n",
       "  <thead>\n",
       "    <tr style=\"text-align: right;\">\n",
       "      <th></th>\n",
       "      <th>person_id</th>\n",
       "      <th>id</th>\n",
       "      <th>name</th>\n",
       "      <th>character</th>\n",
       "      <th>role</th>\n",
       "    </tr>\n",
       "  </thead>\n",
       "  <tbody>\n",
       "    <tr>\n",
       "      <th>0</th>\n",
       "      <td>59401</td>\n",
       "      <td>ts20945</td>\n",
       "      <td>Joe Besser</td>\n",
       "      <td>Joe</td>\n",
       "      <td>ACTOR</td>\n",
       "    </tr>\n",
       "    <tr>\n",
       "      <th>1</th>\n",
       "      <td>31460</td>\n",
       "      <td>ts20945</td>\n",
       "      <td>Moe Howard</td>\n",
       "      <td>Moe</td>\n",
       "      <td>ACTOR</td>\n",
       "    </tr>\n",
       "    <tr>\n",
       "      <th>2</th>\n",
       "      <td>31461</td>\n",
       "      <td>ts20945</td>\n",
       "      <td>Larry Fine</td>\n",
       "      <td>Larry</td>\n",
       "      <td>ACTOR</td>\n",
       "    </tr>\n",
       "    <tr>\n",
       "      <th>3</th>\n",
       "      <td>21174</td>\n",
       "      <td>tm19248</td>\n",
       "      <td>Buster Keaton</td>\n",
       "      <td>Johnny Gray</td>\n",
       "      <td>ACTOR</td>\n",
       "    </tr>\n",
       "    <tr>\n",
       "      <th>4</th>\n",
       "      <td>28713</td>\n",
       "      <td>tm19248</td>\n",
       "      <td>Marion Mack</td>\n",
       "      <td>Annabelle Lee</td>\n",
       "      <td>ACTOR</td>\n",
       "    </tr>\n",
       "  </tbody>\n",
       "</table>\n",
       "</div>"
      ],
      "text/plain": [
       "   person_id       id           name      character   role\n",
       "0      59401  ts20945     Joe Besser            Joe  ACTOR\n",
       "1      31460  ts20945     Moe Howard            Moe  ACTOR\n",
       "2      31461  ts20945     Larry Fine          Larry  ACTOR\n",
       "3      21174  tm19248  Buster Keaton    Johnny Gray  ACTOR\n",
       "4      28713  tm19248    Marion Mack  Annabelle Lee  ACTOR"
      ]
     },
     "execution_count": 17,
     "metadata": {},
     "output_type": "execute_result"
    }
   ],
   "source": [
    "# Display the first 5 rows of the dataframe\n",
    "tv_credits.head(5)"
   ]
  },
  {
   "cell_type": "code",
   "execution_count": 18,
   "id": "41a05dd8",
   "metadata": {},
   "outputs": [
    {
     "data": {
      "text/plain": [
       "(124235, 5)"
      ]
     },
     "execution_count": 18,
     "metadata": {},
     "output_type": "execute_result"
    }
   ],
   "source": [
    "# Display the number of rows and columns in the dataframe\n",
    "tv_credits.shape"
   ]
  },
  {
   "cell_type": "code",
   "execution_count": 48,
   "id": "4e22f1b8",
   "metadata": {},
   "outputs": [],
   "source": [
    "# Create a copy of the dataframe\n",
    "tv = tv_credits.copy()"
   ]
  },
  {
   "cell_type": "code",
   "execution_count": 49,
   "id": "a0677917",
   "metadata": {},
   "outputs": [
    {
     "data": {
      "text/plain": [
       "(124235, 5)"
      ]
     },
     "execution_count": 49,
     "metadata": {},
     "output_type": "execute_result"
    }
   ],
   "source": [
    "# Check for the number of rows and columns in the copy of the dataframe\n",
    "tv.shape"
   ]
  },
  {
   "cell_type": "code",
   "execution_count": 50,
   "id": "75aba519",
   "metadata": {},
   "outputs": [
    {
     "data": {
      "text/plain": [
       "56"
      ]
     },
     "execution_count": 50,
     "metadata": {},
     "output_type": "execute_result"
    }
   ],
   "source": [
    "# Check for the total number of duplicate rows in the data\n",
    "tv.duplicated().sum()"
   ]
  },
  {
   "cell_type": "markdown",
   "id": "520ace81",
   "metadata": {},
   "source": [
    "- There are 56 rows duplicate rows in the dataframe"
   ]
  },
  {
   "cell_type": "code",
   "execution_count": 51,
   "id": "fc6be616",
   "metadata": {},
   "outputs": [],
   "source": [
    "# Drop all duplicate rows across all columns\n",
    "tv = tv.drop_duplicates()"
   ]
  },
  {
   "cell_type": "code",
   "execution_count": 52,
   "id": "71ed5838",
   "metadata": {},
   "outputs": [
    {
     "data": {
      "text/plain": [
       "(124179, 5)"
      ]
     },
     "execution_count": 52,
     "metadata": {},
     "output_type": "execute_result"
    }
   ],
   "source": [
    "# Check for the number of rows and columns after removing the duplicates\n",
    "tv.shape"
   ]
  },
  {
   "cell_type": "markdown",
   "id": "4860b796",
   "metadata": {},
   "source": [
    "- There are 124,179 rows left after removal of duplicate rows across all columns"
   ]
  },
  {
   "cell_type": "code",
   "execution_count": 53,
   "id": "6e30bbeb",
   "metadata": {},
   "outputs": [
    {
     "data": {
      "text/plain": [
       "0"
      ]
     },
     "execution_count": 53,
     "metadata": {},
     "output_type": "execute_result"
    }
   ],
   "source": [
    "# Check for the total number of duplicate rows in the dataframe\n",
    "tv.duplicated().sum()"
   ]
  },
  {
   "cell_type": "code",
   "execution_count": 54,
   "id": "75918ba6",
   "metadata": {},
   "outputs": [
    {
     "data": {
      "text/plain": [
       "person_id        0\n",
       "id               0\n",
       "name             0\n",
       "character    16277\n",
       "role             0\n",
       "dtype: int64"
      ]
     },
     "execution_count": 54,
     "metadata": {},
     "output_type": "execute_result"
    }
   ],
   "source": [
    "# Check for the number of null values in the dataframe\n",
    "tv.isnull().sum()"
   ]
  },
  {
   "cell_type": "markdown",
   "id": "ff6f2090",
   "metadata": {},
   "source": [
    "- There are 16,277 empty rows in the Character column, while other columns have no empty entry."
   ]
  },
  {
   "cell_type": "code",
   "execution_count": 55,
   "id": "3ebf7fe6",
   "metadata": {},
   "outputs": [],
   "source": [
    "# Fill missing values in the Character column with a forward fill method\n",
    "tv = tv.fillna(method = 'ffill', axis = 0)"
   ]
  },
  {
   "cell_type": "code",
   "execution_count": 56,
   "id": "f7414428",
   "metadata": {},
   "outputs": [
    {
     "data": {
      "text/plain": [
       "person_id    0\n",
       "id           0\n",
       "name         0\n",
       "character    0\n",
       "role         0\n",
       "dtype: int64"
      ]
     },
     "execution_count": 56,
     "metadata": {},
     "output_type": "execute_result"
    }
   ],
   "source": [
    "# Check for the number of null values in the dataframe\n",
    "tv.isnull().sum()"
   ]
  },
  {
   "cell_type": "markdown",
   "id": "0f9c14e3",
   "metadata": {},
   "source": [
    "- There are no null values left in the dataframe"
   ]
  }
 ],
 "metadata": {
  "kernelspec": {
   "display_name": "Python 3 (ipykernel)",
   "language": "python",
   "name": "python3"
  },
  "language_info": {
   "codemirror_mode": {
    "name": "ipython",
    "version": 3
   },
   "file_extension": ".py",
   "mimetype": "text/x-python",
   "name": "python",
   "nbconvert_exporter": "python",
   "pygments_lexer": "ipython3",
   "version": "3.9.7"
  }
 },
 "nbformat": 4,
 "nbformat_minor": 5
}
