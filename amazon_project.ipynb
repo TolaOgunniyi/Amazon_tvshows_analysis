{
 "cells": [
  {
   "cell_type": "code",
   "execution_count": 1,
   "id": "a65ece01",
   "metadata": {},
   "outputs": [],
   "source": [
    "import pandas as pd\n",
    "import numpy as np"
   ]
  },
  {
   "cell_type": "markdown",
   "id": "5fff2ca3",
   "metadata": {},
   "source": [
    "#### Dataset: Amazon Prime TV shows and titles.\n",
    "\n",
    "- The goal of this project is exploratory data analysis to potentially derive interesting and valuable insights about Amazon TV shows and titles.\n",
    "- Two (2) csv files are available for use in this project and  are derived from the Kaggle (link is provided below)\n",
    "- Source of data: https://www.kaggle.com/datasets/victorsoeiro/amazon-prime-tv-shows-and-movies?resource=download&select=titles.csv"
   ]
  },
  {
   "cell_type": "code",
   "execution_count": 2,
   "id": "d32e18c0",
   "metadata": {},
   "outputs": [],
   "source": [
    "# Load the csv files Amazon Prime TV shows\n",
    "tv_credits = pd.read_csv(r'C:\\Users\\LuisV\\Desktop\\UDACITY\\Portfolio\\Amazon Prime TV shows and titles\\amazon_project\\credits.csv')"
   ]
  },
  {
   "cell_type": "code",
   "execution_count": 3,
   "id": "a8af1c6d",
   "metadata": {},
   "outputs": [
    {
     "data": {
      "text/html": [
       "<div>\n",
       "<style scoped>\n",
       "    .dataframe tbody tr th:only-of-type {\n",
       "        vertical-align: middle;\n",
       "    }\n",
       "\n",
       "    .dataframe tbody tr th {\n",
       "        vertical-align: top;\n",
       "    }\n",
       "\n",
       "    .dataframe thead th {\n",
       "        text-align: right;\n",
       "    }\n",
       "</style>\n",
       "<table border=\"1\" class=\"dataframe\">\n",
       "  <thead>\n",
       "    <tr style=\"text-align: right;\">\n",
       "      <th></th>\n",
       "      <th>person_id</th>\n",
       "      <th>id</th>\n",
       "      <th>name</th>\n",
       "      <th>character</th>\n",
       "      <th>role</th>\n",
       "    </tr>\n",
       "  </thead>\n",
       "  <tbody>\n",
       "    <tr>\n",
       "      <th>0</th>\n",
       "      <td>59401</td>\n",
       "      <td>ts20945</td>\n",
       "      <td>Joe Besser</td>\n",
       "      <td>Joe</td>\n",
       "      <td>ACTOR</td>\n",
       "    </tr>\n",
       "    <tr>\n",
       "      <th>1</th>\n",
       "      <td>31460</td>\n",
       "      <td>ts20945</td>\n",
       "      <td>Moe Howard</td>\n",
       "      <td>Moe</td>\n",
       "      <td>ACTOR</td>\n",
       "    </tr>\n",
       "    <tr>\n",
       "      <th>2</th>\n",
       "      <td>31461</td>\n",
       "      <td>ts20945</td>\n",
       "      <td>Larry Fine</td>\n",
       "      <td>Larry</td>\n",
       "      <td>ACTOR</td>\n",
       "    </tr>\n",
       "    <tr>\n",
       "      <th>3</th>\n",
       "      <td>21174</td>\n",
       "      <td>tm19248</td>\n",
       "      <td>Buster Keaton</td>\n",
       "      <td>Johnny Gray</td>\n",
       "      <td>ACTOR</td>\n",
       "    </tr>\n",
       "    <tr>\n",
       "      <th>4</th>\n",
       "      <td>28713</td>\n",
       "      <td>tm19248</td>\n",
       "      <td>Marion Mack</td>\n",
       "      <td>Annabelle Lee</td>\n",
       "      <td>ACTOR</td>\n",
       "    </tr>\n",
       "  </tbody>\n",
       "</table>\n",
       "</div>"
      ],
      "text/plain": [
       "   person_id       id           name      character   role\n",
       "0      59401  ts20945     Joe Besser            Joe  ACTOR\n",
       "1      31460  ts20945     Moe Howard            Moe  ACTOR\n",
       "2      31461  ts20945     Larry Fine          Larry  ACTOR\n",
       "3      21174  tm19248  Buster Keaton    Johnny Gray  ACTOR\n",
       "4      28713  tm19248    Marion Mack  Annabelle Lee  ACTOR"
      ]
     },
     "execution_count": 3,
     "metadata": {},
     "output_type": "execute_result"
    }
   ],
   "source": [
    "# Display the first 5 rows of the dataframe\n",
    "tv_credits.head(5)"
   ]
  },
  {
   "cell_type": "code",
   "execution_count": 4,
   "id": "41a05dd8",
   "metadata": {},
   "outputs": [
    {
     "data": {
      "text/plain": [
       "(124235, 5)"
      ]
     },
     "execution_count": 4,
     "metadata": {},
     "output_type": "execute_result"
    }
   ],
   "source": [
    "# Display the number of rows and columns in the dataframe\n",
    "tv_credits.shape"
   ]
  },
  {
   "cell_type": "code",
   "execution_count": 5,
   "id": "4e22f1b8",
   "metadata": {},
   "outputs": [],
   "source": [
    "# Create a copy of the dataframe\n",
    "tv = tv_credits.copy()"
   ]
  },
  {
   "cell_type": "code",
   "execution_count": 6,
   "id": "a0677917",
   "metadata": {},
   "outputs": [
    {
     "data": {
      "text/plain": [
       "(124235, 5)"
      ]
     },
     "execution_count": 6,
     "metadata": {},
     "output_type": "execute_result"
    }
   ],
   "source": [
    "# Check for the number of rows and columns in the copy of the dataframe\n",
    "tv.shape"
   ]
  },
  {
   "cell_type": "code",
   "execution_count": 7,
   "id": "75aba519",
   "metadata": {},
   "outputs": [
    {
     "data": {
      "text/plain": [
       "56"
      ]
     },
     "execution_count": 7,
     "metadata": {},
     "output_type": "execute_result"
    }
   ],
   "source": [
    "# Check for the total number of duplicate rows in the data\n",
    "tv.duplicated().sum()"
   ]
  },
  {
   "cell_type": "markdown",
   "id": "520ace81",
   "metadata": {},
   "source": [
    "- There are 56 rows duplicate rows in the dataframe"
   ]
  },
  {
   "cell_type": "code",
   "execution_count": 8,
   "id": "fc6be616",
   "metadata": {},
   "outputs": [],
   "source": [
    "# Drop all duplicate rows across all columns\n",
    "tv = tv.drop_duplicates()"
   ]
  },
  {
   "cell_type": "code",
   "execution_count": 9,
   "id": "71ed5838",
   "metadata": {},
   "outputs": [
    {
     "data": {
      "text/plain": [
       "(124179, 5)"
      ]
     },
     "execution_count": 9,
     "metadata": {},
     "output_type": "execute_result"
    }
   ],
   "source": [
    "# Check for the number of rows and columns after removing the duplicates\n",
    "tv.shape"
   ]
  },
  {
   "cell_type": "markdown",
   "id": "4860b796",
   "metadata": {},
   "source": [
    "- There are 124,179 rows left after removal of duplicate rows across all columns"
   ]
  },
  {
   "cell_type": "code",
   "execution_count": 10,
   "id": "6e30bbeb",
   "metadata": {},
   "outputs": [
    {
     "data": {
      "text/plain": [
       "0"
      ]
     },
     "execution_count": 10,
     "metadata": {},
     "output_type": "execute_result"
    }
   ],
   "source": [
    "# Check for the total number of duplicate rows in the dataframe\n",
    "tv.duplicated().sum()"
   ]
  },
  {
   "cell_type": "code",
   "execution_count": 11,
   "id": "75918ba6",
   "metadata": {},
   "outputs": [
    {
     "data": {
      "text/plain": [
       "person_id        0\n",
       "id               0\n",
       "name             0\n",
       "character    16277\n",
       "role             0\n",
       "dtype: int64"
      ]
     },
     "execution_count": 11,
     "metadata": {},
     "output_type": "execute_result"
    }
   ],
   "source": [
    "# Check for the number of null values in the dataframe\n",
    "tv.isnull().sum()"
   ]
  },
  {
   "cell_type": "markdown",
   "id": "ff6f2090",
   "metadata": {},
   "source": [
    "- There are 16,277 empty rows in the Character column, while other columns have no empty entry."
   ]
  },
  {
   "cell_type": "code",
   "execution_count": 12,
   "id": "3ebf7fe6",
   "metadata": {},
   "outputs": [],
   "source": [
    "# Fill missing values in the Character column with a forward fill method\n",
    "tv = tv.fillna(method = 'ffill', axis = 0)"
   ]
  },
  {
   "cell_type": "code",
   "execution_count": 13,
   "id": "f7414428",
   "metadata": {},
   "outputs": [
    {
     "data": {
      "text/plain": [
       "person_id    0\n",
       "id           0\n",
       "name         0\n",
       "character    0\n",
       "role         0\n",
       "dtype: int64"
      ]
     },
     "execution_count": 13,
     "metadata": {},
     "output_type": "execute_result"
    }
   ],
   "source": [
    "# Check for the number of null values in the dataframe\n",
    "tv.isnull().sum()"
   ]
  },
  {
   "cell_type": "markdown",
   "id": "0f9c14e3",
   "metadata": {},
   "source": [
    "- There are no null values left in the dataframe"
   ]
  },
  {
   "cell_type": "code",
   "execution_count": 14,
   "id": "aa93a086",
   "metadata": {},
   "outputs": [],
   "source": [
    "# Load the csv files Amazon Prime TV shows\n",
    "titles = pd.read_csv(r'C:\\Users\\LuisV\\Desktop\\UDACITY\\Portfolio\\Amazon Prime TV shows and titles\\amazon_project\\titles.csv')"
   ]
  },
  {
   "cell_type": "code",
   "execution_count": 15,
   "id": "70d12742",
   "metadata": {},
   "outputs": [
    {
     "data": {
      "text/plain": [
       "(9871, 15)"
      ]
     },
     "execution_count": 15,
     "metadata": {},
     "output_type": "execute_result"
    }
   ],
   "source": [
    "# Check to see the number of rows and columns in the dataframe\n",
    "titles.shape"
   ]
  },
  {
   "cell_type": "code",
   "execution_count": 16,
   "id": "9f9a4ba6",
   "metadata": {},
   "outputs": [
    {
     "data": {
      "text/html": [
       "<div>\n",
       "<style scoped>\n",
       "    .dataframe tbody tr th:only-of-type {\n",
       "        vertical-align: middle;\n",
       "    }\n",
       "\n",
       "    .dataframe tbody tr th {\n",
       "        vertical-align: top;\n",
       "    }\n",
       "\n",
       "    .dataframe thead th {\n",
       "        text-align: right;\n",
       "    }\n",
       "</style>\n",
       "<table border=\"1\" class=\"dataframe\">\n",
       "  <thead>\n",
       "    <tr style=\"text-align: right;\">\n",
       "      <th></th>\n",
       "      <th>id</th>\n",
       "      <th>title</th>\n",
       "      <th>type</th>\n",
       "      <th>description</th>\n",
       "      <th>release_year</th>\n",
       "      <th>age_certification</th>\n",
       "      <th>runtime</th>\n",
       "      <th>genres</th>\n",
       "      <th>production_countries</th>\n",
       "      <th>seasons</th>\n",
       "      <th>imdb_id</th>\n",
       "      <th>imdb_score</th>\n",
       "      <th>imdb_votes</th>\n",
       "      <th>tmdb_popularity</th>\n",
       "      <th>tmdb_score</th>\n",
       "    </tr>\n",
       "  </thead>\n",
       "  <tbody>\n",
       "    <tr>\n",
       "      <th>0</th>\n",
       "      <td>ts20945</td>\n",
       "      <td>The Three Stooges</td>\n",
       "      <td>SHOW</td>\n",
       "      <td>The Three Stooges were an American vaudeville ...</td>\n",
       "      <td>1934</td>\n",
       "      <td>TV-PG</td>\n",
       "      <td>19</td>\n",
       "      <td>['comedy', 'family', 'animation', 'action', 'f...</td>\n",
       "      <td>['US']</td>\n",
       "      <td>26.0</td>\n",
       "      <td>tt0850645</td>\n",
       "      <td>8.6</td>\n",
       "      <td>1092.0</td>\n",
       "      <td>15.424</td>\n",
       "      <td>7.6</td>\n",
       "    </tr>\n",
       "    <tr>\n",
       "      <th>1</th>\n",
       "      <td>tm19248</td>\n",
       "      <td>The General</td>\n",
       "      <td>MOVIE</td>\n",
       "      <td>During America’s Civil War, Union spies steal ...</td>\n",
       "      <td>1926</td>\n",
       "      <td>NaN</td>\n",
       "      <td>78</td>\n",
       "      <td>['action', 'drama', 'war', 'western', 'comedy'...</td>\n",
       "      <td>['US']</td>\n",
       "      <td>NaN</td>\n",
       "      <td>tt0017925</td>\n",
       "      <td>8.2</td>\n",
       "      <td>89766.0</td>\n",
       "      <td>8.647</td>\n",
       "      <td>8.0</td>\n",
       "    </tr>\n",
       "    <tr>\n",
       "      <th>2</th>\n",
       "      <td>tm82253</td>\n",
       "      <td>The Best Years of Our Lives</td>\n",
       "      <td>MOVIE</td>\n",
       "      <td>It's the hope that sustains the spirit of ever...</td>\n",
       "      <td>1946</td>\n",
       "      <td>NaN</td>\n",
       "      <td>171</td>\n",
       "      <td>['romance', 'war', 'drama']</td>\n",
       "      <td>['US']</td>\n",
       "      <td>NaN</td>\n",
       "      <td>tt0036868</td>\n",
       "      <td>8.1</td>\n",
       "      <td>63026.0</td>\n",
       "      <td>8.435</td>\n",
       "      <td>7.8</td>\n",
       "    </tr>\n",
       "    <tr>\n",
       "      <th>3</th>\n",
       "      <td>tm83884</td>\n",
       "      <td>His Girl Friday</td>\n",
       "      <td>MOVIE</td>\n",
       "      <td>Hildy, the journalist former wife of newspaper...</td>\n",
       "      <td>1940</td>\n",
       "      <td>NaN</td>\n",
       "      <td>92</td>\n",
       "      <td>['comedy', 'drama', 'romance']</td>\n",
       "      <td>['US']</td>\n",
       "      <td>NaN</td>\n",
       "      <td>tt0032599</td>\n",
       "      <td>7.8</td>\n",
       "      <td>57835.0</td>\n",
       "      <td>11.270</td>\n",
       "      <td>7.4</td>\n",
       "    </tr>\n",
       "    <tr>\n",
       "      <th>4</th>\n",
       "      <td>tm56584</td>\n",
       "      <td>In a Lonely Place</td>\n",
       "      <td>MOVIE</td>\n",
       "      <td>An aspiring actress begins to suspect that her...</td>\n",
       "      <td>1950</td>\n",
       "      <td>NaN</td>\n",
       "      <td>94</td>\n",
       "      <td>['thriller', 'drama', 'romance']</td>\n",
       "      <td>['US']</td>\n",
       "      <td>NaN</td>\n",
       "      <td>tt0042593</td>\n",
       "      <td>7.9</td>\n",
       "      <td>30924.0</td>\n",
       "      <td>8.273</td>\n",
       "      <td>7.6</td>\n",
       "    </tr>\n",
       "  </tbody>\n",
       "</table>\n",
       "</div>"
      ],
      "text/plain": [
       "        id                        title   type  \\\n",
       "0  ts20945            The Three Stooges   SHOW   \n",
       "1  tm19248                  The General  MOVIE   \n",
       "2  tm82253  The Best Years of Our Lives  MOVIE   \n",
       "3  tm83884              His Girl Friday  MOVIE   \n",
       "4  tm56584            In a Lonely Place  MOVIE   \n",
       "\n",
       "                                         description  release_year  \\\n",
       "0  The Three Stooges were an American vaudeville ...          1934   \n",
       "1  During America’s Civil War, Union spies steal ...          1926   \n",
       "2  It's the hope that sustains the spirit of ever...          1946   \n",
       "3  Hildy, the journalist former wife of newspaper...          1940   \n",
       "4  An aspiring actress begins to suspect that her...          1950   \n",
       "\n",
       "  age_certification  runtime  \\\n",
       "0             TV-PG       19   \n",
       "1               NaN       78   \n",
       "2               NaN      171   \n",
       "3               NaN       92   \n",
       "4               NaN       94   \n",
       "\n",
       "                                              genres production_countries  \\\n",
       "0  ['comedy', 'family', 'animation', 'action', 'f...               ['US']   \n",
       "1  ['action', 'drama', 'war', 'western', 'comedy'...               ['US']   \n",
       "2                        ['romance', 'war', 'drama']               ['US']   \n",
       "3                     ['comedy', 'drama', 'romance']               ['US']   \n",
       "4                   ['thriller', 'drama', 'romance']               ['US']   \n",
       "\n",
       "   seasons    imdb_id  imdb_score  imdb_votes  tmdb_popularity  tmdb_score  \n",
       "0     26.0  tt0850645         8.6      1092.0           15.424         7.6  \n",
       "1      NaN  tt0017925         8.2     89766.0            8.647         8.0  \n",
       "2      NaN  tt0036868         8.1     63026.0            8.435         7.8  \n",
       "3      NaN  tt0032599         7.8     57835.0           11.270         7.4  \n",
       "4      NaN  tt0042593         7.9     30924.0            8.273         7.6  "
      ]
     },
     "execution_count": 16,
     "metadata": {},
     "output_type": "execute_result"
    }
   ],
   "source": [
    "#Check the first few rows of the dataframe for movie titles\n",
    "titles.head(5)"
   ]
  },
  {
   "cell_type": "code",
   "execution_count": 17,
   "id": "12da6bf4",
   "metadata": {},
   "outputs": [
    {
     "name": "stdout",
     "output_type": "stream",
     "text": [
      "<class 'pandas.core.frame.DataFrame'>\n",
      "RangeIndex: 9871 entries, 0 to 9870\n",
      "Data columns (total 15 columns):\n",
      " #   Column                Non-Null Count  Dtype  \n",
      "---  ------                --------------  -----  \n",
      " 0   id                    9871 non-null   object \n",
      " 1   title                 9871 non-null   object \n",
      " 2   type                  9871 non-null   object \n",
      " 3   description           9752 non-null   object \n",
      " 4   release_year          9871 non-null   int64  \n",
      " 5   age_certification     3384 non-null   object \n",
      " 6   runtime               9871 non-null   int64  \n",
      " 7   genres                9871 non-null   object \n",
      " 8   production_countries  9871 non-null   object \n",
      " 9   seasons               1357 non-null   float64\n",
      " 10  imdb_id               9204 non-null   object \n",
      " 11  imdb_score            8850 non-null   float64\n",
      " 12  imdb_votes            8840 non-null   float64\n",
      " 13  tmdb_popularity       9324 non-null   float64\n",
      " 14  tmdb_score            7789 non-null   float64\n",
      "dtypes: float64(5), int64(2), object(8)\n",
      "memory usage: 1.1+ MB\n"
     ]
    }
   ],
   "source": [
    "# Print the summary of the dataframe\n",
    "titles.info()"
   ]
  },
  {
   "cell_type": "code",
   "execution_count": 18,
   "id": "efb397be",
   "metadata": {},
   "outputs": [
    {
     "data": {
      "text/plain": [
       "3"
      ]
     },
     "execution_count": 18,
     "metadata": {},
     "output_type": "execute_result"
    }
   ],
   "source": [
    "# Check for the duplicates in the dataframe\n",
    "titles.duplicated().sum()"
   ]
  },
  {
   "cell_type": "markdown",
   "id": "2e8168bd",
   "metadata": {},
   "source": [
    "- There are 3 duplicate rows in the dataframe"
   ]
  },
  {
   "cell_type": "code",
   "execution_count": 19,
   "id": "5ae71873",
   "metadata": {},
   "outputs": [],
   "source": [
    "# Drop the duplicate rows in the movie titles dataframe\n",
    "titles = titles.drop_duplicates()"
   ]
  },
  {
   "cell_type": "code",
   "execution_count": 20,
   "id": "f9b94435",
   "metadata": {},
   "outputs": [
    {
     "data": {
      "text/plain": [
       "0"
      ]
     },
     "execution_count": 20,
     "metadata": {},
     "output_type": "execute_result"
    }
   ],
   "source": [
    "# Check for the number of duplicates in the dataframe\n",
    "titles.duplicated().sum()"
   ]
  },
  {
   "cell_type": "markdown",
   "id": "68ba5f97",
   "metadata": {},
   "source": [
    "- Duplicate rows have been removed"
   ]
  },
  {
   "cell_type": "code",
   "execution_count": 21,
   "id": "255155e1",
   "metadata": {},
   "outputs": [
    {
     "data": {
      "text/plain": [
       "(9868, 15)"
      ]
     },
     "execution_count": 21,
     "metadata": {},
     "output_type": "execute_result"
    }
   ],
   "source": [
    "# Check that there are now 9,868 rows instead of 9,871 since duplicates have been removed\n",
    "titles.shape"
   ]
  },
  {
   "cell_type": "code",
   "execution_count": 22,
   "id": "c1b1ce27",
   "metadata": {},
   "outputs": [
    {
     "data": {
      "text/plain": [
       "id                         0\n",
       "title                      0\n",
       "type                       0\n",
       "description              119\n",
       "release_year               0\n",
       "age_certification       6484\n",
       "runtime                    0\n",
       "genres                     0\n",
       "production_countries       0\n",
       "seasons                 8511\n",
       "imdb_id                  667\n",
       "imdb_score              1021\n",
       "imdb_votes              1031\n",
       "tmdb_popularity          547\n",
       "tmdb_score              2080\n",
       "dtype: int64"
      ]
     },
     "execution_count": 22,
     "metadata": {},
     "output_type": "execute_result"
    }
   ],
   "source": [
    "# Display the total number of null values for each column in the dataframe\n",
    "titles.isnull().sum()"
   ]
  },
  {
   "cell_type": "markdown",
   "id": "f2614ce9",
   "metadata": {},
   "source": [
    "- For the seasons column, over 86% of the data is missing and therefore the column will be dropped."
   ]
  },
  {
   "cell_type": "code",
   "execution_count": 23,
   "id": "6ad7efeb",
   "metadata": {},
   "outputs": [],
   "source": [
    "#create a copy of the dataframe\n",
    "title = titles.copy()"
   ]
  },
  {
   "cell_type": "code",
   "execution_count": 24,
   "id": "3f9cf32b",
   "metadata": {},
   "outputs": [
    {
     "data": {
      "text/html": [
       "<div>\n",
       "<style scoped>\n",
       "    .dataframe tbody tr th:only-of-type {\n",
       "        vertical-align: middle;\n",
       "    }\n",
       "\n",
       "    .dataframe tbody tr th {\n",
       "        vertical-align: top;\n",
       "    }\n",
       "\n",
       "    .dataframe thead th {\n",
       "        text-align: right;\n",
       "    }\n",
       "</style>\n",
       "<table border=\"1\" class=\"dataframe\">\n",
       "  <thead>\n",
       "    <tr style=\"text-align: right;\">\n",
       "      <th></th>\n",
       "      <th>id</th>\n",
       "      <th>title</th>\n",
       "      <th>type</th>\n",
       "      <th>description</th>\n",
       "      <th>release_year</th>\n",
       "      <th>age_certification</th>\n",
       "      <th>runtime</th>\n",
       "      <th>genres</th>\n",
       "      <th>production_countries</th>\n",
       "      <th>seasons</th>\n",
       "      <th>imdb_id</th>\n",
       "      <th>imdb_score</th>\n",
       "      <th>imdb_votes</th>\n",
       "      <th>tmdb_popularity</th>\n",
       "      <th>tmdb_score</th>\n",
       "    </tr>\n",
       "  </thead>\n",
       "  <tbody>\n",
       "    <tr>\n",
       "      <th>0</th>\n",
       "      <td>ts20945</td>\n",
       "      <td>The Three Stooges</td>\n",
       "      <td>SHOW</td>\n",
       "      <td>The Three Stooges were an American vaudeville ...</td>\n",
       "      <td>1934</td>\n",
       "      <td>TV-PG</td>\n",
       "      <td>19</td>\n",
       "      <td>['comedy', 'family', 'animation', 'action', 'f...</td>\n",
       "      <td>['US']</td>\n",
       "      <td>26.0</td>\n",
       "      <td>tt0850645</td>\n",
       "      <td>8.6</td>\n",
       "      <td>1092.0</td>\n",
       "      <td>15.424</td>\n",
       "      <td>7.6</td>\n",
       "    </tr>\n",
       "    <tr>\n",
       "      <th>1</th>\n",
       "      <td>tm19248</td>\n",
       "      <td>The General</td>\n",
       "      <td>MOVIE</td>\n",
       "      <td>During America’s Civil War, Union spies steal ...</td>\n",
       "      <td>1926</td>\n",
       "      <td>NaN</td>\n",
       "      <td>78</td>\n",
       "      <td>['action', 'drama', 'war', 'western', 'comedy'...</td>\n",
       "      <td>['US']</td>\n",
       "      <td>NaN</td>\n",
       "      <td>tt0017925</td>\n",
       "      <td>8.2</td>\n",
       "      <td>89766.0</td>\n",
       "      <td>8.647</td>\n",
       "      <td>8.0</td>\n",
       "    </tr>\n",
       "    <tr>\n",
       "      <th>2</th>\n",
       "      <td>tm82253</td>\n",
       "      <td>The Best Years of Our Lives</td>\n",
       "      <td>MOVIE</td>\n",
       "      <td>It's the hope that sustains the spirit of ever...</td>\n",
       "      <td>1946</td>\n",
       "      <td>NaN</td>\n",
       "      <td>171</td>\n",
       "      <td>['romance', 'war', 'drama']</td>\n",
       "      <td>['US']</td>\n",
       "      <td>NaN</td>\n",
       "      <td>tt0036868</td>\n",
       "      <td>8.1</td>\n",
       "      <td>63026.0</td>\n",
       "      <td>8.435</td>\n",
       "      <td>7.8</td>\n",
       "    </tr>\n",
       "    <tr>\n",
       "      <th>3</th>\n",
       "      <td>tm83884</td>\n",
       "      <td>His Girl Friday</td>\n",
       "      <td>MOVIE</td>\n",
       "      <td>Hildy, the journalist former wife of newspaper...</td>\n",
       "      <td>1940</td>\n",
       "      <td>NaN</td>\n",
       "      <td>92</td>\n",
       "      <td>['comedy', 'drama', 'romance']</td>\n",
       "      <td>['US']</td>\n",
       "      <td>NaN</td>\n",
       "      <td>tt0032599</td>\n",
       "      <td>7.8</td>\n",
       "      <td>57835.0</td>\n",
       "      <td>11.270</td>\n",
       "      <td>7.4</td>\n",
       "    </tr>\n",
       "    <tr>\n",
       "      <th>4</th>\n",
       "      <td>tm56584</td>\n",
       "      <td>In a Lonely Place</td>\n",
       "      <td>MOVIE</td>\n",
       "      <td>An aspiring actress begins to suspect that her...</td>\n",
       "      <td>1950</td>\n",
       "      <td>NaN</td>\n",
       "      <td>94</td>\n",
       "      <td>['thriller', 'drama', 'romance']</td>\n",
       "      <td>['US']</td>\n",
       "      <td>NaN</td>\n",
       "      <td>tt0042593</td>\n",
       "      <td>7.9</td>\n",
       "      <td>30924.0</td>\n",
       "      <td>8.273</td>\n",
       "      <td>7.6</td>\n",
       "    </tr>\n",
       "  </tbody>\n",
       "</table>\n",
       "</div>"
      ],
      "text/plain": [
       "        id                        title   type  \\\n",
       "0  ts20945            The Three Stooges   SHOW   \n",
       "1  tm19248                  The General  MOVIE   \n",
       "2  tm82253  The Best Years of Our Lives  MOVIE   \n",
       "3  tm83884              His Girl Friday  MOVIE   \n",
       "4  tm56584            In a Lonely Place  MOVIE   \n",
       "\n",
       "                                         description  release_year  \\\n",
       "0  The Three Stooges were an American vaudeville ...          1934   \n",
       "1  During America’s Civil War, Union spies steal ...          1926   \n",
       "2  It's the hope that sustains the spirit of ever...          1946   \n",
       "3  Hildy, the journalist former wife of newspaper...          1940   \n",
       "4  An aspiring actress begins to suspect that her...          1950   \n",
       "\n",
       "  age_certification  runtime  \\\n",
       "0             TV-PG       19   \n",
       "1               NaN       78   \n",
       "2               NaN      171   \n",
       "3               NaN       92   \n",
       "4               NaN       94   \n",
       "\n",
       "                                              genres production_countries  \\\n",
       "0  ['comedy', 'family', 'animation', 'action', 'f...               ['US']   \n",
       "1  ['action', 'drama', 'war', 'western', 'comedy'...               ['US']   \n",
       "2                        ['romance', 'war', 'drama']               ['US']   \n",
       "3                     ['comedy', 'drama', 'romance']               ['US']   \n",
       "4                   ['thriller', 'drama', 'romance']               ['US']   \n",
       "\n",
       "   seasons    imdb_id  imdb_score  imdb_votes  tmdb_popularity  tmdb_score  \n",
       "0     26.0  tt0850645         8.6      1092.0           15.424         7.6  \n",
       "1      NaN  tt0017925         8.2     89766.0            8.647         8.0  \n",
       "2      NaN  tt0036868         8.1     63026.0            8.435         7.8  \n",
       "3      NaN  tt0032599         7.8     57835.0           11.270         7.4  \n",
       "4      NaN  tt0042593         7.9     30924.0            8.273         7.6  "
      ]
     },
     "execution_count": 24,
     "metadata": {},
     "output_type": "execute_result"
    }
   ],
   "source": [
    "# Check the first few rows of the dataframe\n",
    "title.head(5)"
   ]
  },
  {
   "cell_type": "code",
   "execution_count": 25,
   "id": "a4245d12",
   "metadata": {},
   "outputs": [
    {
     "data": {
      "text/plain": [
       "(9868, 15)"
      ]
     },
     "execution_count": 25,
     "metadata": {},
     "output_type": "execute_result"
    }
   ],
   "source": [
    "# Check the number of rows and columns in the copy of the dataframe\n",
    "title.shape"
   ]
  },
  {
   "cell_type": "code",
   "execution_count": 26,
   "id": "80adb20b",
   "metadata": {},
   "outputs": [],
   "source": [
    "# Drop the seasons column from the dataframe and save the result as a new dataframe\n",
    "no_seasons = title.drop(['seasons'], axis=1)"
   ]
  },
  {
   "cell_type": "code",
   "execution_count": 27,
   "id": "f0db28aa",
   "metadata": {},
   "outputs": [
    {
     "data": {
      "text/html": [
       "<div>\n",
       "<style scoped>\n",
       "    .dataframe tbody tr th:only-of-type {\n",
       "        vertical-align: middle;\n",
       "    }\n",
       "\n",
       "    .dataframe tbody tr th {\n",
       "        vertical-align: top;\n",
       "    }\n",
       "\n",
       "    .dataframe thead th {\n",
       "        text-align: right;\n",
       "    }\n",
       "</style>\n",
       "<table border=\"1\" class=\"dataframe\">\n",
       "  <thead>\n",
       "    <tr style=\"text-align: right;\">\n",
       "      <th></th>\n",
       "      <th>id</th>\n",
       "      <th>title</th>\n",
       "      <th>type</th>\n",
       "      <th>description</th>\n",
       "      <th>release_year</th>\n",
       "      <th>age_certification</th>\n",
       "      <th>runtime</th>\n",
       "      <th>genres</th>\n",
       "      <th>production_countries</th>\n",
       "      <th>imdb_id</th>\n",
       "      <th>imdb_score</th>\n",
       "      <th>imdb_votes</th>\n",
       "      <th>tmdb_popularity</th>\n",
       "      <th>tmdb_score</th>\n",
       "    </tr>\n",
       "  </thead>\n",
       "  <tbody>\n",
       "    <tr>\n",
       "      <th>9866</th>\n",
       "      <td>tm510327</td>\n",
       "      <td>Lily Is Here</td>\n",
       "      <td>MOVIE</td>\n",
       "      <td>Dallas and heroin have one thing in common: Du...</td>\n",
       "      <td>2021</td>\n",
       "      <td>NaN</td>\n",
       "      <td>93</td>\n",
       "      <td>['drama']</td>\n",
       "      <td>['US']</td>\n",
       "      <td>tt7672388</td>\n",
       "      <td>5.3</td>\n",
       "      <td>20.0</td>\n",
       "      <td>1.406</td>\n",
       "      <td>NaN</td>\n",
       "    </tr>\n",
       "    <tr>\n",
       "      <th>9867</th>\n",
       "      <td>tm1079144</td>\n",
       "      <td>Jay Nog: Something from Nothing</td>\n",
       "      <td>MOVIE</td>\n",
       "      <td>Something From Nothing takes you on a stand-up...</td>\n",
       "      <td>2021</td>\n",
       "      <td>NaN</td>\n",
       "      <td>55</td>\n",
       "      <td>['comedy']</td>\n",
       "      <td>['US']</td>\n",
       "      <td>tt15041600</td>\n",
       "      <td>NaN</td>\n",
       "      <td>NaN</td>\n",
       "      <td>0.600</td>\n",
       "      <td>NaN</td>\n",
       "    </tr>\n",
       "    <tr>\n",
       "      <th>9868</th>\n",
       "      <td>tm847725</td>\n",
       "      <td>Chasing</td>\n",
       "      <td>MOVIE</td>\n",
       "      <td>A cop from Chennai sets out to nab a dreaded d...</td>\n",
       "      <td>2021</td>\n",
       "      <td>NaN</td>\n",
       "      <td>116</td>\n",
       "      <td>['crime']</td>\n",
       "      <td>['IN']</td>\n",
       "      <td>NaN</td>\n",
       "      <td>NaN</td>\n",
       "      <td>NaN</td>\n",
       "      <td>1.960</td>\n",
       "      <td>NaN</td>\n",
       "    </tr>\n",
       "    <tr>\n",
       "      <th>9869</th>\n",
       "      <td>tm1054116</td>\n",
       "      <td>Baikunth</td>\n",
       "      <td>MOVIE</td>\n",
       "      <td>This story is about prevalent caste problem, e...</td>\n",
       "      <td>2021</td>\n",
       "      <td>NaN</td>\n",
       "      <td>72</td>\n",
       "      <td>['family', 'drama']</td>\n",
       "      <td>[]</td>\n",
       "      <td>tt14331982</td>\n",
       "      <td>8.4</td>\n",
       "      <td>49.0</td>\n",
       "      <td>0.645</td>\n",
       "      <td>NaN</td>\n",
       "    </tr>\n",
       "    <tr>\n",
       "      <th>9870</th>\n",
       "      <td>ts275838</td>\n",
       "      <td>Waking Up Eighty</td>\n",
       "      <td>SHOW</td>\n",
       "      <td>Kara Stewart, 16, is fed up with just about ev...</td>\n",
       "      <td>2021</td>\n",
       "      <td>NaN</td>\n",
       "      <td>10</td>\n",
       "      <td>['drama']</td>\n",
       "      <td>[]</td>\n",
       "      <td>tt13542552</td>\n",
       "      <td>NaN</td>\n",
       "      <td>NaN</td>\n",
       "      <td>NaN</td>\n",
       "      <td>NaN</td>\n",
       "    </tr>\n",
       "  </tbody>\n",
       "</table>\n",
       "</div>"
      ],
      "text/plain": [
       "             id                            title   type  \\\n",
       "9866   tm510327                     Lily Is Here  MOVIE   \n",
       "9867  tm1079144  Jay Nog: Something from Nothing  MOVIE   \n",
       "9868   tm847725                          Chasing  MOVIE   \n",
       "9869  tm1054116                         Baikunth  MOVIE   \n",
       "9870   ts275838                 Waking Up Eighty   SHOW   \n",
       "\n",
       "                                            description  release_year  \\\n",
       "9866  Dallas and heroin have one thing in common: Du...          2021   \n",
       "9867  Something From Nothing takes you on a stand-up...          2021   \n",
       "9868  A cop from Chennai sets out to nab a dreaded d...          2021   \n",
       "9869  This story is about prevalent caste problem, e...          2021   \n",
       "9870  Kara Stewart, 16, is fed up with just about ev...          2021   \n",
       "\n",
       "     age_certification  runtime               genres production_countries  \\\n",
       "9866               NaN       93            ['drama']               ['US']   \n",
       "9867               NaN       55           ['comedy']               ['US']   \n",
       "9868               NaN      116            ['crime']               ['IN']   \n",
       "9869               NaN       72  ['family', 'drama']                   []   \n",
       "9870               NaN       10            ['drama']                   []   \n",
       "\n",
       "         imdb_id  imdb_score  imdb_votes  tmdb_popularity  tmdb_score  \n",
       "9866   tt7672388         5.3        20.0            1.406         NaN  \n",
       "9867  tt15041600         NaN         NaN            0.600         NaN  \n",
       "9868         NaN         NaN         NaN            1.960         NaN  \n",
       "9869  tt14331982         8.4        49.0            0.645         NaN  \n",
       "9870  tt13542552         NaN         NaN              NaN         NaN  "
      ]
     },
     "execution_count": 27,
     "metadata": {},
     "output_type": "execute_result"
    }
   ],
   "source": [
    "no_seasons.tail(5)"
   ]
  },
  {
   "cell_type": "markdown",
   "id": "8875ae2f",
   "metadata": {},
   "source": [
    "- The age certification column contains 6,484 null values.This is ~66% of missing data so the column will be dropped."
   ]
  },
  {
   "cell_type": "code",
   "execution_count": 28,
   "id": "ecb39616",
   "metadata": {},
   "outputs": [],
   "source": [
    "# Drop the age_certification and imdb_id columns from the dataframe. An 'id' column with unique values already exists\n",
    "# in the dataframe so the imdb_id column does not necessarily serve as an important column for exploratory data analysis\n",
    "no_age = no_seasons.drop(['age_certification','imdb_id'], axis=1)   "
   ]
  },
  {
   "cell_type": "code",
   "execution_count": 29,
   "id": "6ebd5637",
   "metadata": {},
   "outputs": [
    {
     "data": {
      "text/html": [
       "<div>\n",
       "<style scoped>\n",
       "    .dataframe tbody tr th:only-of-type {\n",
       "        vertical-align: middle;\n",
       "    }\n",
       "\n",
       "    .dataframe tbody tr th {\n",
       "        vertical-align: top;\n",
       "    }\n",
       "\n",
       "    .dataframe thead th {\n",
       "        text-align: right;\n",
       "    }\n",
       "</style>\n",
       "<table border=\"1\" class=\"dataframe\">\n",
       "  <thead>\n",
       "    <tr style=\"text-align: right;\">\n",
       "      <th></th>\n",
       "      <th>id</th>\n",
       "      <th>title</th>\n",
       "      <th>type</th>\n",
       "      <th>description</th>\n",
       "      <th>release_year</th>\n",
       "      <th>runtime</th>\n",
       "      <th>genres</th>\n",
       "      <th>production_countries</th>\n",
       "      <th>imdb_score</th>\n",
       "      <th>imdb_votes</th>\n",
       "      <th>tmdb_popularity</th>\n",
       "      <th>tmdb_score</th>\n",
       "    </tr>\n",
       "  </thead>\n",
       "  <tbody>\n",
       "    <tr>\n",
       "      <th>0</th>\n",
       "      <td>ts20945</td>\n",
       "      <td>The Three Stooges</td>\n",
       "      <td>SHOW</td>\n",
       "      <td>The Three Stooges were an American vaudeville ...</td>\n",
       "      <td>1934</td>\n",
       "      <td>19</td>\n",
       "      <td>['comedy', 'family', 'animation', 'action', 'f...</td>\n",
       "      <td>['US']</td>\n",
       "      <td>8.6</td>\n",
       "      <td>1092.0</td>\n",
       "      <td>15.424</td>\n",
       "      <td>7.6</td>\n",
       "    </tr>\n",
       "    <tr>\n",
       "      <th>1</th>\n",
       "      <td>tm19248</td>\n",
       "      <td>The General</td>\n",
       "      <td>MOVIE</td>\n",
       "      <td>During America’s Civil War, Union spies steal ...</td>\n",
       "      <td>1926</td>\n",
       "      <td>78</td>\n",
       "      <td>['action', 'drama', 'war', 'western', 'comedy'...</td>\n",
       "      <td>['US']</td>\n",
       "      <td>8.2</td>\n",
       "      <td>89766.0</td>\n",
       "      <td>8.647</td>\n",
       "      <td>8.0</td>\n",
       "    </tr>\n",
       "    <tr>\n",
       "      <th>2</th>\n",
       "      <td>tm82253</td>\n",
       "      <td>The Best Years of Our Lives</td>\n",
       "      <td>MOVIE</td>\n",
       "      <td>It's the hope that sustains the spirit of ever...</td>\n",
       "      <td>1946</td>\n",
       "      <td>171</td>\n",
       "      <td>['romance', 'war', 'drama']</td>\n",
       "      <td>['US']</td>\n",
       "      <td>8.1</td>\n",
       "      <td>63026.0</td>\n",
       "      <td>8.435</td>\n",
       "      <td>7.8</td>\n",
       "    </tr>\n",
       "    <tr>\n",
       "      <th>3</th>\n",
       "      <td>tm83884</td>\n",
       "      <td>His Girl Friday</td>\n",
       "      <td>MOVIE</td>\n",
       "      <td>Hildy, the journalist former wife of newspaper...</td>\n",
       "      <td>1940</td>\n",
       "      <td>92</td>\n",
       "      <td>['comedy', 'drama', 'romance']</td>\n",
       "      <td>['US']</td>\n",
       "      <td>7.8</td>\n",
       "      <td>57835.0</td>\n",
       "      <td>11.270</td>\n",
       "      <td>7.4</td>\n",
       "    </tr>\n",
       "    <tr>\n",
       "      <th>4</th>\n",
       "      <td>tm56584</td>\n",
       "      <td>In a Lonely Place</td>\n",
       "      <td>MOVIE</td>\n",
       "      <td>An aspiring actress begins to suspect that her...</td>\n",
       "      <td>1950</td>\n",
       "      <td>94</td>\n",
       "      <td>['thriller', 'drama', 'romance']</td>\n",
       "      <td>['US']</td>\n",
       "      <td>7.9</td>\n",
       "      <td>30924.0</td>\n",
       "      <td>8.273</td>\n",
       "      <td>7.6</td>\n",
       "    </tr>\n",
       "  </tbody>\n",
       "</table>\n",
       "</div>"
      ],
      "text/plain": [
       "        id                        title   type  \\\n",
       "0  ts20945            The Three Stooges   SHOW   \n",
       "1  tm19248                  The General  MOVIE   \n",
       "2  tm82253  The Best Years of Our Lives  MOVIE   \n",
       "3  tm83884              His Girl Friday  MOVIE   \n",
       "4  tm56584            In a Lonely Place  MOVIE   \n",
       "\n",
       "                                         description  release_year  runtime  \\\n",
       "0  The Three Stooges were an American vaudeville ...          1934       19   \n",
       "1  During America’s Civil War, Union spies steal ...          1926       78   \n",
       "2  It's the hope that sustains the spirit of ever...          1946      171   \n",
       "3  Hildy, the journalist former wife of newspaper...          1940       92   \n",
       "4  An aspiring actress begins to suspect that her...          1950       94   \n",
       "\n",
       "                                              genres production_countries  \\\n",
       "0  ['comedy', 'family', 'animation', 'action', 'f...               ['US']   \n",
       "1  ['action', 'drama', 'war', 'western', 'comedy'...               ['US']   \n",
       "2                        ['romance', 'war', 'drama']               ['US']   \n",
       "3                     ['comedy', 'drama', 'romance']               ['US']   \n",
       "4                   ['thriller', 'drama', 'romance']               ['US']   \n",
       "\n",
       "   imdb_score  imdb_votes  tmdb_popularity  tmdb_score  \n",
       "0         8.6      1092.0           15.424         7.6  \n",
       "1         8.2     89766.0            8.647         8.0  \n",
       "2         8.1     63026.0            8.435         7.8  \n",
       "3         7.8     57835.0           11.270         7.4  \n",
       "4         7.9     30924.0            8.273         7.6  "
      ]
     },
     "execution_count": 29,
     "metadata": {},
     "output_type": "execute_result"
    }
   ],
   "source": [
    "# Check the first few rows of the dataframe\n",
    "no_age.head(5)"
   ]
  },
  {
   "cell_type": "code",
   "execution_count": 30,
   "id": "1010f67b",
   "metadata": {},
   "outputs": [
    {
     "data": {
      "text/plain": [
       "id                         0\n",
       "title                      0\n",
       "type                       0\n",
       "description              119\n",
       "release_year               0\n",
       "runtime                    0\n",
       "genres                     0\n",
       "production_countries       0\n",
       "imdb_score              1021\n",
       "imdb_votes              1031\n",
       "tmdb_popularity          547\n",
       "tmdb_score              2080\n",
       "dtype: int64"
      ]
     },
     "execution_count": 30,
     "metadata": {},
     "output_type": "execute_result"
    }
   ],
   "source": [
    "# Display the total number of null values left for each column in the dataframe\n",
    "no_age.isnull().sum()"
   ]
  },
  {
   "cell_type": "code",
   "execution_count": 31,
   "id": "75705df0",
   "metadata": {},
   "outputs": [
    {
     "data": {
      "text/html": [
       "<div>\n",
       "<style scoped>\n",
       "    .dataframe tbody tr th:only-of-type {\n",
       "        vertical-align: middle;\n",
       "    }\n",
       "\n",
       "    .dataframe tbody tr th {\n",
       "        vertical-align: top;\n",
       "    }\n",
       "\n",
       "    .dataframe thead th {\n",
       "        text-align: right;\n",
       "    }\n",
       "</style>\n",
       "<table border=\"1\" class=\"dataframe\">\n",
       "  <thead>\n",
       "    <tr style=\"text-align: right;\">\n",
       "      <th></th>\n",
       "      <th>id</th>\n",
       "      <th>title</th>\n",
       "      <th>type</th>\n",
       "      <th>description</th>\n",
       "      <th>release_year</th>\n",
       "      <th>runtime</th>\n",
       "      <th>genres</th>\n",
       "      <th>production_countries</th>\n",
       "      <th>imdb_score</th>\n",
       "      <th>imdb_votes</th>\n",
       "      <th>tmdb_popularity</th>\n",
       "      <th>tmdb_score</th>\n",
       "    </tr>\n",
       "  </thead>\n",
       "  <tbody>\n",
       "    <tr>\n",
       "      <th>9866</th>\n",
       "      <td>tm510327</td>\n",
       "      <td>Lily Is Here</td>\n",
       "      <td>MOVIE</td>\n",
       "      <td>Dallas and heroin have one thing in common: Du...</td>\n",
       "      <td>2021</td>\n",
       "      <td>93</td>\n",
       "      <td>['drama']</td>\n",
       "      <td>['US']</td>\n",
       "      <td>5.3</td>\n",
       "      <td>20.0</td>\n",
       "      <td>1.406</td>\n",
       "      <td>NaN</td>\n",
       "    </tr>\n",
       "    <tr>\n",
       "      <th>9867</th>\n",
       "      <td>tm1079144</td>\n",
       "      <td>Jay Nog: Something from Nothing</td>\n",
       "      <td>MOVIE</td>\n",
       "      <td>Something From Nothing takes you on a stand-up...</td>\n",
       "      <td>2021</td>\n",
       "      <td>55</td>\n",
       "      <td>['comedy']</td>\n",
       "      <td>['US']</td>\n",
       "      <td>NaN</td>\n",
       "      <td>NaN</td>\n",
       "      <td>0.600</td>\n",
       "      <td>NaN</td>\n",
       "    </tr>\n",
       "    <tr>\n",
       "      <th>9868</th>\n",
       "      <td>tm847725</td>\n",
       "      <td>Chasing</td>\n",
       "      <td>MOVIE</td>\n",
       "      <td>A cop from Chennai sets out to nab a dreaded d...</td>\n",
       "      <td>2021</td>\n",
       "      <td>116</td>\n",
       "      <td>['crime']</td>\n",
       "      <td>['IN']</td>\n",
       "      <td>NaN</td>\n",
       "      <td>NaN</td>\n",
       "      <td>1.960</td>\n",
       "      <td>NaN</td>\n",
       "    </tr>\n",
       "    <tr>\n",
       "      <th>9869</th>\n",
       "      <td>tm1054116</td>\n",
       "      <td>Baikunth</td>\n",
       "      <td>MOVIE</td>\n",
       "      <td>This story is about prevalent caste problem, e...</td>\n",
       "      <td>2021</td>\n",
       "      <td>72</td>\n",
       "      <td>['family', 'drama']</td>\n",
       "      <td>[]</td>\n",
       "      <td>8.4</td>\n",
       "      <td>49.0</td>\n",
       "      <td>0.645</td>\n",
       "      <td>NaN</td>\n",
       "    </tr>\n",
       "    <tr>\n",
       "      <th>9870</th>\n",
       "      <td>ts275838</td>\n",
       "      <td>Waking Up Eighty</td>\n",
       "      <td>SHOW</td>\n",
       "      <td>Kara Stewart, 16, is fed up with just about ev...</td>\n",
       "      <td>2021</td>\n",
       "      <td>10</td>\n",
       "      <td>['drama']</td>\n",
       "      <td>[]</td>\n",
       "      <td>NaN</td>\n",
       "      <td>NaN</td>\n",
       "      <td>NaN</td>\n",
       "      <td>NaN</td>\n",
       "    </tr>\n",
       "  </tbody>\n",
       "</table>\n",
       "</div>"
      ],
      "text/plain": [
       "             id                            title   type  \\\n",
       "9866   tm510327                     Lily Is Here  MOVIE   \n",
       "9867  tm1079144  Jay Nog: Something from Nothing  MOVIE   \n",
       "9868   tm847725                          Chasing  MOVIE   \n",
       "9869  tm1054116                         Baikunth  MOVIE   \n",
       "9870   ts275838                 Waking Up Eighty   SHOW   \n",
       "\n",
       "                                            description  release_year  \\\n",
       "9866  Dallas and heroin have one thing in common: Du...          2021   \n",
       "9867  Something From Nothing takes you on a stand-up...          2021   \n",
       "9868  A cop from Chennai sets out to nab a dreaded d...          2021   \n",
       "9869  This story is about prevalent caste problem, e...          2021   \n",
       "9870  Kara Stewart, 16, is fed up with just about ev...          2021   \n",
       "\n",
       "      runtime               genres production_countries  imdb_score  \\\n",
       "9866       93            ['drama']               ['US']         5.3   \n",
       "9867       55           ['comedy']               ['US']         NaN   \n",
       "9868      116            ['crime']               ['IN']         NaN   \n",
       "9869       72  ['family', 'drama']                   []         8.4   \n",
       "9870       10            ['drama']                   []         NaN   \n",
       "\n",
       "      imdb_votes  tmdb_popularity  tmdb_score  \n",
       "9866        20.0            1.406         NaN  \n",
       "9867         NaN            0.600         NaN  \n",
       "9868         NaN            1.960         NaN  \n",
       "9869        49.0            0.645         NaN  \n",
       "9870         NaN              NaN         NaN  "
      ]
     },
     "execution_count": 31,
     "metadata": {},
     "output_type": "execute_result"
    }
   ],
   "source": [
    "# Check the last 5 rows of the dataframe\n",
    "no_age.tail(5)"
   ]
  },
  {
   "cell_type": "code",
   "execution_count": 32,
   "id": "15b1ce2f",
   "metadata": {},
   "outputs": [
    {
     "data": {
      "text/plain": [
       "(9868, 12)"
      ]
     },
     "execution_count": 32,
     "metadata": {},
     "output_type": "execute_result"
    }
   ],
   "source": [
    "no_age.shape"
   ]
  },
  {
   "cell_type": "code",
   "execution_count": 33,
   "id": "a89a6cd2",
   "metadata": {},
   "outputs": [],
   "source": [
    "# Replace null values in the following columns using a forward_filling method: 'tmdb_score','imdb_score', and'imdb_votes'\n",
    "no_age[['tmdb_score','imdb_score','imdb_votes']]= no_age[['tmdb_score','imdb_score','imdb_votes']].ffill()"
   ]
  },
  {
   "cell_type": "code",
   "execution_count": 34,
   "id": "cb02ebd4",
   "metadata": {},
   "outputs": [
    {
     "data": {
      "text/plain": [
       "id                        0\n",
       "title                     0\n",
       "type                      0\n",
       "description             119\n",
       "release_year              0\n",
       "runtime                   0\n",
       "genres                    0\n",
       "production_countries      0\n",
       "imdb_score                0\n",
       "imdb_votes                0\n",
       "tmdb_popularity         547\n",
       "tmdb_score                0\n",
       "dtype: int64"
      ]
     },
     "execution_count": 34,
     "metadata": {},
     "output_type": "execute_result"
    }
   ],
   "source": [
    "# Display the total number of null values left for each column in the dataframe\n",
    "no_age.isnull().sum()"
   ]
  },
  {
   "cell_type": "code",
   "execution_count": 35,
   "id": "6db9fcd2",
   "metadata": {},
   "outputs": [],
   "source": [
    "# Replace the null values in the 'tmdb_popularity' column with 0\n",
    "\n",
    "no_age['tmdb_popularity'] = no_age['tmdb_popularity'].fillna(0)"
   ]
  },
  {
   "cell_type": "code",
   "execution_count": 36,
   "id": "ff6ffe5e",
   "metadata": {},
   "outputs": [
    {
     "data": {
      "text/plain": [
       "id                        0\n",
       "title                     0\n",
       "type                      0\n",
       "description             119\n",
       "release_year              0\n",
       "runtime                   0\n",
       "genres                    0\n",
       "production_countries      0\n",
       "imdb_score                0\n",
       "imdb_votes                0\n",
       "tmdb_popularity           0\n",
       "tmdb_score                0\n",
       "dtype: int64"
      ]
     },
     "execution_count": 36,
     "metadata": {},
     "output_type": "execute_result"
    }
   ],
   "source": [
    "# Display the total number of null values per column\n",
    "no_age.isnull().sum()"
   ]
  },
  {
   "cell_type": "code",
   "execution_count": 37,
   "id": "01ea9605",
   "metadata": {},
   "outputs": [],
   "source": [
    "# Use a forward fill method to replace the null values in the description column\n",
    "no_age['description']= no_age['description'].ffill()"
   ]
  },
  {
   "cell_type": "code",
   "execution_count": 53,
   "id": "901b7dd7",
   "metadata": {},
   "outputs": [
    {
     "data": {
      "text/plain": [
       "id                      0\n",
       "title                   0\n",
       "type                    0\n",
       "description             0\n",
       "release_year            0\n",
       "runtime                 0\n",
       "genres                  0\n",
       "production_countries    0\n",
       "imdb_score              0\n",
       "imdb_votes              0\n",
       "tmdb_popularity         0\n",
       "tmdb_score              0\n",
       "dtype: int64"
      ]
     },
     "execution_count": 53,
     "metadata": {},
     "output_type": "execute_result"
    }
   ],
   "source": [
    "# Display the total number of null values to check if any column has null values left\n",
    "no_age.isnull().sum()"
   ]
  },
  {
   "cell_type": "markdown",
   "id": "30a7e4f5",
   "metadata": {},
   "source": [
    "- Dataframe is clean"
   ]
  },
  {
   "cell_type": "code",
   "execution_count": 54,
   "id": "dfb0d2c0",
   "metadata": {},
   "outputs": [],
   "source": [
    "#Create a copy of the cleaned dataframe\n",
    "movie_titles_data = no_age.copy()"
   ]
  },
  {
   "cell_type": "code",
   "execution_count": 55,
   "id": "872aa2da",
   "metadata": {},
   "outputs": [
    {
     "data": {
      "text/html": [
       "<div>\n",
       "<style scoped>\n",
       "    .dataframe tbody tr th:only-of-type {\n",
       "        vertical-align: middle;\n",
       "    }\n",
       "\n",
       "    .dataframe tbody tr th {\n",
       "        vertical-align: top;\n",
       "    }\n",
       "\n",
       "    .dataframe thead th {\n",
       "        text-align: right;\n",
       "    }\n",
       "</style>\n",
       "<table border=\"1\" class=\"dataframe\">\n",
       "  <thead>\n",
       "    <tr style=\"text-align: right;\">\n",
       "      <th></th>\n",
       "      <th>id</th>\n",
       "      <th>title</th>\n",
       "      <th>type</th>\n",
       "      <th>description</th>\n",
       "      <th>release_year</th>\n",
       "      <th>runtime</th>\n",
       "      <th>genres</th>\n",
       "      <th>production_countries</th>\n",
       "      <th>imdb_score</th>\n",
       "      <th>imdb_votes</th>\n",
       "      <th>tmdb_popularity</th>\n",
       "      <th>tmdb_score</th>\n",
       "    </tr>\n",
       "  </thead>\n",
       "  <tbody>\n",
       "    <tr>\n",
       "      <th>0</th>\n",
       "      <td>ts20945</td>\n",
       "      <td>The Three Stooges</td>\n",
       "      <td>SHOW</td>\n",
       "      <td>The Three Stooges were an American vaudeville ...</td>\n",
       "      <td>1934</td>\n",
       "      <td>19</td>\n",
       "      <td>['comedy', 'family', 'animation', 'action', 'f...</td>\n",
       "      <td>['US']</td>\n",
       "      <td>8.6</td>\n",
       "      <td>1092.0</td>\n",
       "      <td>15.424</td>\n",
       "      <td>7.6</td>\n",
       "    </tr>\n",
       "    <tr>\n",
       "      <th>1</th>\n",
       "      <td>tm19248</td>\n",
       "      <td>The General</td>\n",
       "      <td>MOVIE</td>\n",
       "      <td>During America’s Civil War, Union spies steal ...</td>\n",
       "      <td>1926</td>\n",
       "      <td>78</td>\n",
       "      <td>['action', 'drama', 'war', 'western', 'comedy'...</td>\n",
       "      <td>['US']</td>\n",
       "      <td>8.2</td>\n",
       "      <td>89766.0</td>\n",
       "      <td>8.647</td>\n",
       "      <td>8.0</td>\n",
       "    </tr>\n",
       "    <tr>\n",
       "      <th>2</th>\n",
       "      <td>tm82253</td>\n",
       "      <td>The Best Years of Our Lives</td>\n",
       "      <td>MOVIE</td>\n",
       "      <td>It's the hope that sustains the spirit of ever...</td>\n",
       "      <td>1946</td>\n",
       "      <td>171</td>\n",
       "      <td>['romance', 'war', 'drama']</td>\n",
       "      <td>['US']</td>\n",
       "      <td>8.1</td>\n",
       "      <td>63026.0</td>\n",
       "      <td>8.435</td>\n",
       "      <td>7.8</td>\n",
       "    </tr>\n",
       "    <tr>\n",
       "      <th>3</th>\n",
       "      <td>tm83884</td>\n",
       "      <td>His Girl Friday</td>\n",
       "      <td>MOVIE</td>\n",
       "      <td>Hildy, the journalist former wife of newspaper...</td>\n",
       "      <td>1940</td>\n",
       "      <td>92</td>\n",
       "      <td>['comedy', 'drama', 'romance']</td>\n",
       "      <td>['US']</td>\n",
       "      <td>7.8</td>\n",
       "      <td>57835.0</td>\n",
       "      <td>11.270</td>\n",
       "      <td>7.4</td>\n",
       "    </tr>\n",
       "    <tr>\n",
       "      <th>4</th>\n",
       "      <td>tm56584</td>\n",
       "      <td>In a Lonely Place</td>\n",
       "      <td>MOVIE</td>\n",
       "      <td>An aspiring actress begins to suspect that her...</td>\n",
       "      <td>1950</td>\n",
       "      <td>94</td>\n",
       "      <td>['thriller', 'drama', 'romance']</td>\n",
       "      <td>['US']</td>\n",
       "      <td>7.9</td>\n",
       "      <td>30924.0</td>\n",
       "      <td>8.273</td>\n",
       "      <td>7.6</td>\n",
       "    </tr>\n",
       "  </tbody>\n",
       "</table>\n",
       "</div>"
      ],
      "text/plain": [
       "        id                        title   type  \\\n",
       "0  ts20945            The Three Stooges   SHOW   \n",
       "1  tm19248                  The General  MOVIE   \n",
       "2  tm82253  The Best Years of Our Lives  MOVIE   \n",
       "3  tm83884              His Girl Friday  MOVIE   \n",
       "4  tm56584            In a Lonely Place  MOVIE   \n",
       "\n",
       "                                         description  release_year  runtime  \\\n",
       "0  The Three Stooges were an American vaudeville ...          1934       19   \n",
       "1  During America’s Civil War, Union spies steal ...          1926       78   \n",
       "2  It's the hope that sustains the spirit of ever...          1946      171   \n",
       "3  Hildy, the journalist former wife of newspaper...          1940       92   \n",
       "4  An aspiring actress begins to suspect that her...          1950       94   \n",
       "\n",
       "                                              genres production_countries  \\\n",
       "0  ['comedy', 'family', 'animation', 'action', 'f...               ['US']   \n",
       "1  ['action', 'drama', 'war', 'western', 'comedy'...               ['US']   \n",
       "2                        ['romance', 'war', 'drama']               ['US']   \n",
       "3                     ['comedy', 'drama', 'romance']               ['US']   \n",
       "4                   ['thriller', 'drama', 'romance']               ['US']   \n",
       "\n",
       "   imdb_score  imdb_votes  tmdb_popularity  tmdb_score  \n",
       "0         8.6      1092.0           15.424         7.6  \n",
       "1         8.2     89766.0            8.647         8.0  \n",
       "2         8.1     63026.0            8.435         7.8  \n",
       "3         7.8     57835.0           11.270         7.4  \n",
       "4         7.9     30924.0            8.273         7.6  "
      ]
     },
     "execution_count": 55,
     "metadata": {},
     "output_type": "execute_result"
    }
   ],
   "source": [
    "# Check the first 10 rows of the dataframe\n",
    "movie_titles_data.head(5)"
   ]
  },
  {
   "cell_type": "code",
   "execution_count": 68,
   "id": "1a7ffedb",
   "metadata": {},
   "outputs": [
    {
     "name": "stderr",
     "output_type": "stream",
     "text": [
      "C:\\Users\\LuisV\\AppData\\Local\\Temp/ipykernel_11036/1002774130.py:2: FutureWarning: The default value of regex will change from True to False in a future version. In addition, single character regular expressions will *not* be treated as literal strings when regex=True.\n",
      "  movie_titles_data['production_countries'] = movie_titles_data['production_countries'].str.replace(\"[\",\"\").str.replace(\"]\",\"\")\n"
     ]
    }
   ],
   "source": [
    "# Remove square brackets from string value of production countries\n",
    "movie_titles_data['production_countries'] = movie_titles_data['production_countries'].str.replace(\"[\",\"\").str.replace(\"]\",\"\")"
   ]
  },
  {
   "cell_type": "code",
   "execution_count": 72,
   "id": "21149903",
   "metadata": {},
   "outputs": [],
   "source": [
    "# Remove single quotes from string value of production countries\n",
    "movie_titles_data['production_countries'] = movie_titles_data['production_countries'].str.replace(\"'\",\"\").str.replace(\"'\",\"\")"
   ]
  },
  {
   "cell_type": "code",
   "execution_count": 73,
   "id": "4db76e93",
   "metadata": {},
   "outputs": [
    {
     "data": {
      "text/html": [
       "<div>\n",
       "<style scoped>\n",
       "    .dataframe tbody tr th:only-of-type {\n",
       "        vertical-align: middle;\n",
       "    }\n",
       "\n",
       "    .dataframe tbody tr th {\n",
       "        vertical-align: top;\n",
       "    }\n",
       "\n",
       "    .dataframe thead th {\n",
       "        text-align: right;\n",
       "    }\n",
       "</style>\n",
       "<table border=\"1\" class=\"dataframe\">\n",
       "  <thead>\n",
       "    <tr style=\"text-align: right;\">\n",
       "      <th></th>\n",
       "      <th>id</th>\n",
       "      <th>title</th>\n",
       "      <th>type</th>\n",
       "      <th>description</th>\n",
       "      <th>release_year</th>\n",
       "      <th>runtime</th>\n",
       "      <th>genres</th>\n",
       "      <th>production_countries</th>\n",
       "      <th>imdb_score</th>\n",
       "      <th>imdb_votes</th>\n",
       "      <th>tmdb_popularity</th>\n",
       "      <th>tmdb_score</th>\n",
       "    </tr>\n",
       "  </thead>\n",
       "  <tbody>\n",
       "    <tr>\n",
       "      <th>0</th>\n",
       "      <td>ts20945</td>\n",
       "      <td>The Three Stooges</td>\n",
       "      <td>SHOW</td>\n",
       "      <td>The Three Stooges were an American vaudeville ...</td>\n",
       "      <td>1934</td>\n",
       "      <td>19</td>\n",
       "      <td>['comedy', 'family', 'animation', 'action', 'f...</td>\n",
       "      <td>US</td>\n",
       "      <td>8.6</td>\n",
       "      <td>1092.0</td>\n",
       "      <td>15.424</td>\n",
       "      <td>7.6</td>\n",
       "    </tr>\n",
       "    <tr>\n",
       "      <th>1</th>\n",
       "      <td>tm19248</td>\n",
       "      <td>The General</td>\n",
       "      <td>MOVIE</td>\n",
       "      <td>During America’s Civil War, Union spies steal ...</td>\n",
       "      <td>1926</td>\n",
       "      <td>78</td>\n",
       "      <td>['action', 'drama', 'war', 'western', 'comedy'...</td>\n",
       "      <td>US</td>\n",
       "      <td>8.2</td>\n",
       "      <td>89766.0</td>\n",
       "      <td>8.647</td>\n",
       "      <td>8.0</td>\n",
       "    </tr>\n",
       "    <tr>\n",
       "      <th>2</th>\n",
       "      <td>tm82253</td>\n",
       "      <td>The Best Years of Our Lives</td>\n",
       "      <td>MOVIE</td>\n",
       "      <td>It's the hope that sustains the spirit of ever...</td>\n",
       "      <td>1946</td>\n",
       "      <td>171</td>\n",
       "      <td>['romance', 'war', 'drama']</td>\n",
       "      <td>US</td>\n",
       "      <td>8.1</td>\n",
       "      <td>63026.0</td>\n",
       "      <td>8.435</td>\n",
       "      <td>7.8</td>\n",
       "    </tr>\n",
       "  </tbody>\n",
       "</table>\n",
       "</div>"
      ],
      "text/plain": [
       "        id                        title   type  \\\n",
       "0  ts20945            The Three Stooges   SHOW   \n",
       "1  tm19248                  The General  MOVIE   \n",
       "2  tm82253  The Best Years of Our Lives  MOVIE   \n",
       "\n",
       "                                         description  release_year  runtime  \\\n",
       "0  The Three Stooges were an American vaudeville ...          1934       19   \n",
       "1  During America’s Civil War, Union spies steal ...          1926       78   \n",
       "2  It's the hope that sustains the spirit of ever...          1946      171   \n",
       "\n",
       "                                              genres production_countries  \\\n",
       "0  ['comedy', 'family', 'animation', 'action', 'f...                   US   \n",
       "1  ['action', 'drama', 'war', 'western', 'comedy'...                   US   \n",
       "2                        ['romance', 'war', 'drama']                   US   \n",
       "\n",
       "   imdb_score  imdb_votes  tmdb_popularity  tmdb_score  \n",
       "0         8.6      1092.0           15.424         7.6  \n",
       "1         8.2     89766.0            8.647         8.0  \n",
       "2         8.1     63026.0            8.435         7.8  "
      ]
     },
     "execution_count": 73,
     "metadata": {},
     "output_type": "execute_result"
    }
   ],
   "source": [
    "# Check the first 3 rows of the dataframe to make sure the square brackets and single quotes \n",
    "#have been removed from string values in the production_countries column\n",
    "movie_titles_data.head(3)"
   ]
  },
  {
   "cell_type": "markdown",
   "id": "42296c54",
   "metadata": {},
   "source": [
    "### Exploratory Data Analysis of the movie titles dataframe"
   ]
  },
  {
   "cell_type": "markdown",
   "id": "49cf10e7",
   "metadata": {},
   "source": [
    "- The main goal is to explore as much of the movie titles data to uncover interesting insights."
   ]
  },
  {
   "cell_type": "code",
   "execution_count": 84,
   "id": "db9ab435",
   "metadata": {},
   "outputs": [],
   "source": [
    "# Find the total number of different categories of titles in the dataframe\n",
    "counts = movie_titles_data['type'].nunique()"
   ]
  },
  {
   "cell_type": "code",
   "execution_count": 85,
   "id": "36ec4aae",
   "metadata": {
    "scrolled": true
   },
   "outputs": [
    {
     "data": {
      "text/plain": [
       "2"
      ]
     },
     "execution_count": 85,
     "metadata": {},
     "output_type": "execute_result"
    }
   ],
   "source": [
    "\n",
    "counts"
   ]
  },
  {
   "cell_type": "markdown",
   "id": "0674e90a",
   "metadata": {},
   "source": [
    "- There are only 2 different categories of titles "
   ]
  },
  {
   "cell_type": "code",
   "execution_count": 86,
   "id": "586b6307",
   "metadata": {},
   "outputs": [],
   "source": [
    "# Count the total number of each category type\n",
    "num = movie_titles_data['type'].value_counts()"
   ]
  },
  {
   "cell_type": "code",
   "execution_count": 87,
   "id": "7e06b443",
   "metadata": {},
   "outputs": [
    {
     "data": {
      "text/plain": [
       "MOVIE    8511\n",
       "SHOW     1357\n",
       "Name: type, dtype: int64"
      ]
     },
     "execution_count": 87,
     "metadata": {},
     "output_type": "execute_result"
    }
   ],
   "source": [
    "num\n"
   ]
  },
  {
   "cell_type": "markdown",
   "id": "43b5523b",
   "metadata": {},
   "source": [
    "- There are 1,357 shows and 8,511 movie titles"
   ]
  },
  {
   "cell_type": "code",
   "execution_count": 80,
   "id": "c1ebc411",
   "metadata": {},
   "outputs": [],
   "source": [
    "# Display data for TV shows only\n",
    "shows_only = movie_titles_data[movie_titles_data[\"type\"] == 'SHOW']\n"
   ]
  },
  {
   "cell_type": "code",
   "execution_count": 81,
   "id": "d8a6f3aa",
   "metadata": {},
   "outputs": [
    {
     "data": {
      "text/html": [
       "<div>\n",
       "<style scoped>\n",
       "    .dataframe tbody tr th:only-of-type {\n",
       "        vertical-align: middle;\n",
       "    }\n",
       "\n",
       "    .dataframe tbody tr th {\n",
       "        vertical-align: top;\n",
       "    }\n",
       "\n",
       "    .dataframe thead th {\n",
       "        text-align: right;\n",
       "    }\n",
       "</style>\n",
       "<table border=\"1\" class=\"dataframe\">\n",
       "  <thead>\n",
       "    <tr style=\"text-align: right;\">\n",
       "      <th></th>\n",
       "      <th>id</th>\n",
       "      <th>title</th>\n",
       "      <th>type</th>\n",
       "      <th>description</th>\n",
       "      <th>release_year</th>\n",
       "      <th>runtime</th>\n",
       "      <th>genres</th>\n",
       "      <th>production_countries</th>\n",
       "      <th>imdb_score</th>\n",
       "      <th>imdb_votes</th>\n",
       "      <th>tmdb_popularity</th>\n",
       "      <th>tmdb_score</th>\n",
       "    </tr>\n",
       "  </thead>\n",
       "  <tbody>\n",
       "    <tr>\n",
       "      <th>0</th>\n",
       "      <td>ts20945</td>\n",
       "      <td>The Three Stooges</td>\n",
       "      <td>SHOW</td>\n",
       "      <td>The Three Stooges were an American vaudeville ...</td>\n",
       "      <td>1934</td>\n",
       "      <td>19</td>\n",
       "      <td>['comedy', 'family', 'animation', 'action', 'f...</td>\n",
       "      <td>US</td>\n",
       "      <td>8.6</td>\n",
       "      <td>1092.0</td>\n",
       "      <td>15.424</td>\n",
       "      <td>7.6</td>\n",
       "    </tr>\n",
       "    <tr>\n",
       "      <th>91</th>\n",
       "      <td>ts55748</td>\n",
       "      <td>What's My Line?</td>\n",
       "      <td>SHOW</td>\n",
       "      <td>Four panelists must determine guests' occupati...</td>\n",
       "      <td>1950</td>\n",
       "      <td>30</td>\n",
       "      <td>['reality', 'family']</td>\n",
       "      <td>US</td>\n",
       "      <td>8.6</td>\n",
       "      <td>1563.0</td>\n",
       "      <td>87.392</td>\n",
       "      <td>6.9</td>\n",
       "    </tr>\n",
       "    <tr>\n",
       "      <th>956</th>\n",
       "      <td>ts20005</td>\n",
       "      <td>I Love Lucy</td>\n",
       "      <td>SHOW</td>\n",
       "      <td>Cuban Bandleader Ricky Ricardo would be happy ...</td>\n",
       "      <td>1951</td>\n",
       "      <td>30</td>\n",
       "      <td>['comedy', 'family']</td>\n",
       "      <td>US</td>\n",
       "      <td>8.5</td>\n",
       "      <td>25944.0</td>\n",
       "      <td>17.088</td>\n",
       "      <td>8.1</td>\n",
       "    </tr>\n",
       "    <tr>\n",
       "      <th>969</th>\n",
       "      <td>ts42867</td>\n",
       "      <td>Mister Rogers' Neighborhood</td>\n",
       "      <td>SHOW</td>\n",
       "      <td>Mister Rogers' Neighborhood is an American chi...</td>\n",
       "      <td>1968</td>\n",
       "      <td>29</td>\n",
       "      <td>['fantasy', 'music', 'family']</td>\n",
       "      <td>US</td>\n",
       "      <td>8.7</td>\n",
       "      <td>8675.0</td>\n",
       "      <td>8.747</td>\n",
       "      <td>4.7</td>\n",
       "    </tr>\n",
       "    <tr>\n",
       "      <th>980</th>\n",
       "      <td>ts21930</td>\n",
       "      <td>Lupin the Third</td>\n",
       "      <td>SHOW</td>\n",
       "      <td>Arsene Lupin III is the grandson of the master...</td>\n",
       "      <td>1971</td>\n",
       "      <td>23</td>\n",
       "      <td>['scifi', 'animation', 'action', 'comedy', 'cr...</td>\n",
       "      <td>JP</td>\n",
       "      <td>7.9</td>\n",
       "      <td>2116.0</td>\n",
       "      <td>45.829</td>\n",
       "      <td>8.0</td>\n",
       "    </tr>\n",
       "  </tbody>\n",
       "</table>\n",
       "</div>"
      ],
      "text/plain": [
       "          id                        title  type  \\\n",
       "0    ts20945            The Three Stooges  SHOW   \n",
       "91   ts55748              What's My Line?  SHOW   \n",
       "956  ts20005                  I Love Lucy  SHOW   \n",
       "969  ts42867  Mister Rogers' Neighborhood  SHOW   \n",
       "980  ts21930              Lupin the Third  SHOW   \n",
       "\n",
       "                                           description  release_year  runtime  \\\n",
       "0    The Three Stooges were an American vaudeville ...          1934       19   \n",
       "91   Four panelists must determine guests' occupati...          1950       30   \n",
       "956  Cuban Bandleader Ricky Ricardo would be happy ...          1951       30   \n",
       "969  Mister Rogers' Neighborhood is an American chi...          1968       29   \n",
       "980  Arsene Lupin III is the grandson of the master...          1971       23   \n",
       "\n",
       "                                                genres production_countries  \\\n",
       "0    ['comedy', 'family', 'animation', 'action', 'f...                   US   \n",
       "91                               ['reality', 'family']                   US   \n",
       "956                               ['comedy', 'family']                   US   \n",
       "969                     ['fantasy', 'music', 'family']                   US   \n",
       "980  ['scifi', 'animation', 'action', 'comedy', 'cr...                   JP   \n",
       "\n",
       "     imdb_score  imdb_votes  tmdb_popularity  tmdb_score  \n",
       "0           8.6      1092.0           15.424         7.6  \n",
       "91          8.6      1563.0           87.392         6.9  \n",
       "956         8.5     25944.0           17.088         8.1  \n",
       "969         8.7      8675.0            8.747         4.7  \n",
       "980         7.9      2116.0           45.829         8.0  "
      ]
     },
     "execution_count": 81,
     "metadata": {},
     "output_type": "execute_result"
    }
   ],
   "source": [
    "# Display on the fist 5 rows of the dataframe\n",
    "shows_only.head(5)"
   ]
  },
  {
   "cell_type": "code",
   "execution_count": null,
   "id": "61d6e573",
   "metadata": {},
   "outputs": [],
   "source": [
    "# Display the top 10 shows based on the movie database popularity score (i.e. tmdb_popularity)"
   ]
  },
  {
   "cell_type": "code",
   "execution_count": 76,
   "id": "c51a2247",
   "metadata": {},
   "outputs": [
    {
     "data": {
      "text/html": [
       "<div>\n",
       "<style scoped>\n",
       "    .dataframe tbody tr th:only-of-type {\n",
       "        vertical-align: middle;\n",
       "    }\n",
       "\n",
       "    .dataframe tbody tr th {\n",
       "        vertical-align: top;\n",
       "    }\n",
       "\n",
       "    .dataframe thead th {\n",
       "        text-align: right;\n",
       "    }\n",
       "</style>\n",
       "<table border=\"1\" class=\"dataframe\">\n",
       "  <thead>\n",
       "    <tr style=\"text-align: right;\">\n",
       "      <th></th>\n",
       "      <th>id</th>\n",
       "      <th>title</th>\n",
       "      <th>type</th>\n",
       "      <th>description</th>\n",
       "      <th>release_year</th>\n",
       "      <th>runtime</th>\n",
       "      <th>genres</th>\n",
       "      <th>production_countries</th>\n",
       "      <th>imdb_score</th>\n",
       "      <th>imdb_votes</th>\n",
       "      <th>tmdb_popularity</th>\n",
       "      <th>tmdb_score</th>\n",
       "    </tr>\n",
       "  </thead>\n",
       "  <tbody>\n",
       "    <tr>\n",
       "      <th>8934</th>\n",
       "      <td>tm266536</td>\n",
       "      <td>All the Old Knives</td>\n",
       "      <td>MOVIE</td>\n",
       "      <td>When the CIA discovers one of its agents leake...</td>\n",
       "      <td>2022</td>\n",
       "      <td>101</td>\n",
       "      <td>['thriller']</td>\n",
       "      <td>US</td>\n",
       "      <td>6.1</td>\n",
       "      <td>14686.0</td>\n",
       "      <td>1437.906</td>\n",
       "      <td>6.0</td>\n",
       "    </tr>\n",
       "    <tr>\n",
       "      <th>9040</th>\n",
       "      <td>ts331561</td>\n",
       "      <td>Harina</td>\n",
       "      <td>SHOW</td>\n",
       "      <td>The misadventures of Lieutenant Harina and his...</td>\n",
       "      <td>2022</td>\n",
       "      <td>33</td>\n",
       "      <td>['comedy']</td>\n",
       "      <td>MX</td>\n",
       "      <td>7.8</td>\n",
       "      <td>509.0</td>\n",
       "      <td>951.863</td>\n",
       "      <td>5.5</td>\n",
       "    </tr>\n",
       "    <tr>\n",
       "      <th>9039</th>\n",
       "      <td>tm1188007</td>\n",
       "      <td>The eighth clause</td>\n",
       "      <td>MOVIE</td>\n",
       "      <td>Kat and Borja appear to be a perfect couple, b...</td>\n",
       "      <td>2022</td>\n",
       "      <td>80</td>\n",
       "      <td>['thriller']</td>\n",
       "      <td>MX</td>\n",
       "      <td>6.6</td>\n",
       "      <td>2014.0</td>\n",
       "      <td>950.986</td>\n",
       "      <td>4.1</td>\n",
       "    </tr>\n",
       "    <tr>\n",
       "      <th>8964</th>\n",
       "      <td>tm460828</td>\n",
       "      <td>Hotel Transylvania: Transformania</td>\n",
       "      <td>MOVIE</td>\n",
       "      <td>When Van Helsing's mysterious invention, the \"...</td>\n",
       "      <td>2022</td>\n",
       "      <td>87</td>\n",
       "      <td>['fantasy', 'romance', 'animation', 'comedy', ...</td>\n",
       "      <td>US</td>\n",
       "      <td>6.0</td>\n",
       "      <td>26244.0</td>\n",
       "      <td>934.545</td>\n",
       "      <td>7.1</td>\n",
       "    </tr>\n",
       "    <tr>\n",
       "      <th>7421</th>\n",
       "      <td>tm374139</td>\n",
       "      <td>Sonic the Hedgehog</td>\n",
       "      <td>MOVIE</td>\n",
       "      <td>Powered with incredible speed, Sonic The Hedge...</td>\n",
       "      <td>2020</td>\n",
       "      <td>99</td>\n",
       "      <td>['scifi', 'action', 'comedy', 'family', 'fanta...</td>\n",
       "      <td>JP, US</td>\n",
       "      <td>6.5</td>\n",
       "      <td>126887.0</td>\n",
       "      <td>893.650</td>\n",
       "      <td>7.4</td>\n",
       "    </tr>\n",
       "    <tr>\n",
       "      <th>8948</th>\n",
       "      <td>tm460993</td>\n",
       "      <td>Clifford the Big Red Dog</td>\n",
       "      <td>MOVIE</td>\n",
       "      <td>As Emily struggles to fit in at home and at sc...</td>\n",
       "      <td>2021</td>\n",
       "      <td>97</td>\n",
       "      <td>['fantasy', 'comedy', 'family', 'animation', '...</td>\n",
       "      <td>CA, GB, US</td>\n",
       "      <td>5.9</td>\n",
       "      <td>11522.0</td>\n",
       "      <td>482.744</td>\n",
       "      <td>7.3</td>\n",
       "    </tr>\n",
       "    <tr>\n",
       "      <th>9092</th>\n",
       "      <td>tm1042364</td>\n",
       "      <td>Queen of Spades</td>\n",
       "      <td>MOVIE</td>\n",
       "      <td>According to legend, an ominous entity known a...</td>\n",
       "      <td>2021</td>\n",
       "      <td>91</td>\n",
       "      <td>['horror']</td>\n",
       "      <td>CA</td>\n",
       "      <td>3.6</td>\n",
       "      <td>631.0</td>\n",
       "      <td>429.802</td>\n",
       "      <td>6.2</td>\n",
       "    </tr>\n",
       "    <tr>\n",
       "      <th>9011</th>\n",
       "      <td>tm943374</td>\n",
       "      <td>Meander</td>\n",
       "      <td>MOVIE</td>\n",
       "      <td>After getting a car ride from an unknown man, ...</td>\n",
       "      <td>2021</td>\n",
       "      <td>91</td>\n",
       "      <td>['horror', 'thriller', 'drama', 'scifi']</td>\n",
       "      <td>FR</td>\n",
       "      <td>5.6</td>\n",
       "      <td>7782.0</td>\n",
       "      <td>389.431</td>\n",
       "      <td>6.0</td>\n",
       "    </tr>\n",
       "    <tr>\n",
       "      <th>4099</th>\n",
       "      <td>ts22277</td>\n",
       "      <td>Suits</td>\n",
       "      <td>SHOW</td>\n",
       "      <td>While running from a drug deal gone bad, Mike ...</td>\n",
       "      <td>2011</td>\n",
       "      <td>44</td>\n",
       "      <td>['drama', 'comedy']</td>\n",
       "      <td>US</td>\n",
       "      <td>8.5</td>\n",
       "      <td>395600.0</td>\n",
       "      <td>356.533</td>\n",
       "      <td>8.1</td>\n",
       "    </tr>\n",
       "    <tr>\n",
       "      <th>5287</th>\n",
       "      <td>ts8</td>\n",
       "      <td>Better Call Saul</td>\n",
       "      <td>SHOW</td>\n",
       "      <td>Six years before Saul Goodman meets Walter Whi...</td>\n",
       "      <td>2015</td>\n",
       "      <td>49</td>\n",
       "      <td>['comedy', 'drama', 'crime']</td>\n",
       "      <td>US</td>\n",
       "      <td>8.8</td>\n",
       "      <td>404920.0</td>\n",
       "      <td>352.657</td>\n",
       "      <td>8.5</td>\n",
       "    </tr>\n",
       "  </tbody>\n",
       "</table>\n",
       "</div>"
      ],
      "text/plain": [
       "             id                              title   type  \\\n",
       "8934   tm266536                 All the Old Knives  MOVIE   \n",
       "9040   ts331561                             Harina   SHOW   \n",
       "9039  tm1188007                  The eighth clause  MOVIE   \n",
       "8964   tm460828  Hotel Transylvania: Transformania  MOVIE   \n",
       "7421   tm374139                 Sonic the Hedgehog  MOVIE   \n",
       "8948   tm460993           Clifford the Big Red Dog  MOVIE   \n",
       "9092  tm1042364                    Queen of Spades  MOVIE   \n",
       "9011   tm943374                            Meander  MOVIE   \n",
       "4099    ts22277                              Suits   SHOW   \n",
       "5287        ts8                   Better Call Saul   SHOW   \n",
       "\n",
       "                                            description  release_year  \\\n",
       "8934  When the CIA discovers one of its agents leake...          2022   \n",
       "9040  The misadventures of Lieutenant Harina and his...          2022   \n",
       "9039  Kat and Borja appear to be a perfect couple, b...          2022   \n",
       "8964  When Van Helsing's mysterious invention, the \"...          2022   \n",
       "7421  Powered with incredible speed, Sonic The Hedge...          2020   \n",
       "8948  As Emily struggles to fit in at home and at sc...          2021   \n",
       "9092  According to legend, an ominous entity known a...          2021   \n",
       "9011  After getting a car ride from an unknown man, ...          2021   \n",
       "4099  While running from a drug deal gone bad, Mike ...          2011   \n",
       "5287  Six years before Saul Goodman meets Walter Whi...          2015   \n",
       "\n",
       "      runtime                                             genres  \\\n",
       "8934      101                                       ['thriller']   \n",
       "9040       33                                         ['comedy']   \n",
       "9039       80                                       ['thriller']   \n",
       "8964       87  ['fantasy', 'romance', 'animation', 'comedy', ...   \n",
       "7421       99  ['scifi', 'action', 'comedy', 'family', 'fanta...   \n",
       "8948       97  ['fantasy', 'comedy', 'family', 'animation', '...   \n",
       "9092       91                                         ['horror']   \n",
       "9011       91           ['horror', 'thriller', 'drama', 'scifi']   \n",
       "4099       44                                ['drama', 'comedy']   \n",
       "5287       49                       ['comedy', 'drama', 'crime']   \n",
       "\n",
       "     production_countries  imdb_score  imdb_votes  tmdb_popularity  tmdb_score  \n",
       "8934                   US         6.1     14686.0         1437.906         6.0  \n",
       "9040                   MX         7.8       509.0          951.863         5.5  \n",
       "9039                   MX         6.6      2014.0          950.986         4.1  \n",
       "8964                   US         6.0     26244.0          934.545         7.1  \n",
       "7421               JP, US         6.5    126887.0          893.650         7.4  \n",
       "8948           CA, GB, US         5.9     11522.0          482.744         7.3  \n",
       "9092                   CA         3.6       631.0          429.802         6.2  \n",
       "9011                   FR         5.6      7782.0          389.431         6.0  \n",
       "4099                   US         8.5    395600.0          356.533         8.1  \n",
       "5287                   US         8.8    404920.0          352.657         8.5  "
      ]
     },
     "execution_count": 76,
     "metadata": {},
     "output_type": "execute_result"
    }
   ],
   "source": [
    "# Sort the dataframe by the tmdb_popularity (the movie database) column in a descending order \n",
    "# and limit result to the first 10 rows.This will reveal the top 10 most popular movies in the movie database \n",
    "\n",
    "movie_titles_data.sort_values(by='tmdb_popularity', ascending=False).head(10)"
   ]
  },
  {
   "cell_type": "code",
   "execution_count": null,
   "id": "c47a24dd",
   "metadata": {},
   "outputs": [],
   "source": []
  },
  {
   "cell_type": "code",
   "execution_count": null,
   "id": "708b120d",
   "metadata": {},
   "outputs": [],
   "source": []
  }
 ],
 "metadata": {
  "kernelspec": {
   "display_name": "Python 3 (ipykernel)",
   "language": "python",
   "name": "python3"
  },
  "language_info": {
   "codemirror_mode": {
    "name": "ipython",
    "version": 3
   },
   "file_extension": ".py",
   "mimetype": "text/x-python",
   "name": "python",
   "nbconvert_exporter": "python",
   "pygments_lexer": "ipython3",
   "version": "3.9.7"
  }
 },
 "nbformat": 4,
 "nbformat_minor": 5
}
