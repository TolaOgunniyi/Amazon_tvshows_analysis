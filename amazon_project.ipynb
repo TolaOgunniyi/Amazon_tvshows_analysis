{
 "cells": [
  {
   "cell_type": "code",
   "execution_count": 2,
   "id": "a65ece01",
   "metadata": {},
   "outputs": [],
   "source": [
    "import pandas as pd\n",
    "import numpy as np"
   ]
  },
  {
   "cell_type": "markdown",
   "id": "5fff2ca3",
   "metadata": {},
   "source": [
    "#### Dataset: Amazon Prime TV shows and titles.\n",
    "\n",
    "- The goal of this project is exploratory data analysis to potentially derive interesting and valuable insights about Amazon TV shows and titles.\n",
    "- Two (2) csv files are available for use in this project and  are derived from the Kaggle (link is provided below)\n",
    "- Source of data: https://www.kaggle.com/datasets/victorsoeiro/amazon-prime-tv-shows-and-movies?resource=download&select=titles.csv"
   ]
  },
  {
   "cell_type": "code",
   "execution_count": 3,
   "id": "d32e18c0",
   "metadata": {},
   "outputs": [],
   "source": [
    "# Load the csv files Amazon Prime TV shows\n",
    "tv_credits = pd.read_csv(r'C:\\Users\\LuisV\\Desktop\\UDACITY\\Portfolio\\Amazon Prime TV shows and titles\\amazon_project\\credits.csv')"
   ]
  },
  {
   "cell_type": "code",
   "execution_count": 4,
   "id": "a8af1c6d",
   "metadata": {},
   "outputs": [
    {
     "data": {
      "text/html": [
       "<div>\n",
       "<style scoped>\n",
       "    .dataframe tbody tr th:only-of-type {\n",
       "        vertical-align: middle;\n",
       "    }\n",
       "\n",
       "    .dataframe tbody tr th {\n",
       "        vertical-align: top;\n",
       "    }\n",
       "\n",
       "    .dataframe thead th {\n",
       "        text-align: right;\n",
       "    }\n",
       "</style>\n",
       "<table border=\"1\" class=\"dataframe\">\n",
       "  <thead>\n",
       "    <tr style=\"text-align: right;\">\n",
       "      <th></th>\n",
       "      <th>person_id</th>\n",
       "      <th>id</th>\n",
       "      <th>name</th>\n",
       "      <th>character</th>\n",
       "      <th>role</th>\n",
       "    </tr>\n",
       "  </thead>\n",
       "  <tbody>\n",
       "    <tr>\n",
       "      <th>0</th>\n",
       "      <td>59401</td>\n",
       "      <td>ts20945</td>\n",
       "      <td>Joe Besser</td>\n",
       "      <td>Joe</td>\n",
       "      <td>ACTOR</td>\n",
       "    </tr>\n",
       "    <tr>\n",
       "      <th>1</th>\n",
       "      <td>31460</td>\n",
       "      <td>ts20945</td>\n",
       "      <td>Moe Howard</td>\n",
       "      <td>Moe</td>\n",
       "      <td>ACTOR</td>\n",
       "    </tr>\n",
       "    <tr>\n",
       "      <th>2</th>\n",
       "      <td>31461</td>\n",
       "      <td>ts20945</td>\n",
       "      <td>Larry Fine</td>\n",
       "      <td>Larry</td>\n",
       "      <td>ACTOR</td>\n",
       "    </tr>\n",
       "    <tr>\n",
       "      <th>3</th>\n",
       "      <td>21174</td>\n",
       "      <td>tm19248</td>\n",
       "      <td>Buster Keaton</td>\n",
       "      <td>Johnny Gray</td>\n",
       "      <td>ACTOR</td>\n",
       "    </tr>\n",
       "    <tr>\n",
       "      <th>4</th>\n",
       "      <td>28713</td>\n",
       "      <td>tm19248</td>\n",
       "      <td>Marion Mack</td>\n",
       "      <td>Annabelle Lee</td>\n",
       "      <td>ACTOR</td>\n",
       "    </tr>\n",
       "  </tbody>\n",
       "</table>\n",
       "</div>"
      ],
      "text/plain": [
       "   person_id       id           name      character   role\n",
       "0      59401  ts20945     Joe Besser            Joe  ACTOR\n",
       "1      31460  ts20945     Moe Howard            Moe  ACTOR\n",
       "2      31461  ts20945     Larry Fine          Larry  ACTOR\n",
       "3      21174  tm19248  Buster Keaton    Johnny Gray  ACTOR\n",
       "4      28713  tm19248    Marion Mack  Annabelle Lee  ACTOR"
      ]
     },
     "execution_count": 4,
     "metadata": {},
     "output_type": "execute_result"
    }
   ],
   "source": [
    "# Display the first 5 rows of the dataframe\n",
    "tv_credits.head(5)"
   ]
  },
  {
   "cell_type": "code",
   "execution_count": 5,
   "id": "41a05dd8",
   "metadata": {},
   "outputs": [
    {
     "data": {
      "text/plain": [
       "(124235, 5)"
      ]
     },
     "execution_count": 5,
     "metadata": {},
     "output_type": "execute_result"
    }
   ],
   "source": [
    "# Display the number of rows and columns in the dataframe\n",
    "tv_credits.shape"
   ]
  },
  {
   "cell_type": "code",
   "execution_count": 6,
   "id": "4e22f1b8",
   "metadata": {},
   "outputs": [],
   "source": [
    "# Create a copy of the dataframe\n",
    "tv = tv_credits.copy()"
   ]
  },
  {
   "cell_type": "code",
   "execution_count": 7,
   "id": "a0677917",
   "metadata": {},
   "outputs": [
    {
     "data": {
      "text/plain": [
       "(124235, 5)"
      ]
     },
     "execution_count": 7,
     "metadata": {},
     "output_type": "execute_result"
    }
   ],
   "source": [
    "# Check for the number of rows and columns in the copy of the dataframe\n",
    "tv.shape"
   ]
  },
  {
   "cell_type": "code",
   "execution_count": 8,
   "id": "75aba519",
   "metadata": {},
   "outputs": [
    {
     "data": {
      "text/plain": [
       "56"
      ]
     },
     "execution_count": 8,
     "metadata": {},
     "output_type": "execute_result"
    }
   ],
   "source": [
    "# Check for the total number of duplicate rows in the data\n",
    "tv.duplicated().sum()"
   ]
  },
  {
   "cell_type": "markdown",
   "id": "520ace81",
   "metadata": {},
   "source": [
    "- There are 56 rows duplicate rows in the dataframe"
   ]
  },
  {
   "cell_type": "code",
   "execution_count": 9,
   "id": "fc6be616",
   "metadata": {},
   "outputs": [],
   "source": [
    "# Drop all duplicate rows across all columns\n",
    "tv = tv.drop_duplicates()"
   ]
  },
  {
   "cell_type": "code",
   "execution_count": 10,
   "id": "71ed5838",
   "metadata": {},
   "outputs": [
    {
     "data": {
      "text/plain": [
       "(124179, 5)"
      ]
     },
     "execution_count": 10,
     "metadata": {},
     "output_type": "execute_result"
    }
   ],
   "source": [
    "# Check for the number of rows and columns after removing the duplicates\n",
    "tv.shape"
   ]
  },
  {
   "cell_type": "markdown",
   "id": "4860b796",
   "metadata": {},
   "source": [
    "- There are 124,179 rows left after removal of duplicate rows across all columns"
   ]
  },
  {
   "cell_type": "code",
   "execution_count": 11,
   "id": "6e30bbeb",
   "metadata": {},
   "outputs": [
    {
     "data": {
      "text/plain": [
       "0"
      ]
     },
     "execution_count": 11,
     "metadata": {},
     "output_type": "execute_result"
    }
   ],
   "source": [
    "# Check for the total number of duplicate rows in the dataframe\n",
    "tv.duplicated().sum()"
   ]
  },
  {
   "cell_type": "code",
   "execution_count": 12,
   "id": "75918ba6",
   "metadata": {},
   "outputs": [
    {
     "data": {
      "text/plain": [
       "person_id        0\n",
       "id               0\n",
       "name             0\n",
       "character    16277\n",
       "role             0\n",
       "dtype: int64"
      ]
     },
     "execution_count": 12,
     "metadata": {},
     "output_type": "execute_result"
    }
   ],
   "source": [
    "# Check for the number of null values in the dataframe\n",
    "tv.isnull().sum()"
   ]
  },
  {
   "cell_type": "markdown",
   "id": "ff6f2090",
   "metadata": {},
   "source": [
    "- There are 16,277 empty rows in the Character column, while other columns have no empty entry."
   ]
  },
  {
   "cell_type": "code",
   "execution_count": 13,
   "id": "3ebf7fe6",
   "metadata": {},
   "outputs": [],
   "source": [
    "# Fill missing values in the Character column with a forward fill method\n",
    "tv = tv.fillna(method = 'ffill', axis = 0)"
   ]
  },
  {
   "cell_type": "code",
   "execution_count": 14,
   "id": "f7414428",
   "metadata": {},
   "outputs": [
    {
     "data": {
      "text/plain": [
       "person_id    0\n",
       "id           0\n",
       "name         0\n",
       "character    0\n",
       "role         0\n",
       "dtype: int64"
      ]
     },
     "execution_count": 14,
     "metadata": {},
     "output_type": "execute_result"
    }
   ],
   "source": [
    "# Check for the number of null values in the dataframe\n",
    "tv.isnull().sum()"
   ]
  },
  {
   "cell_type": "markdown",
   "id": "0f9c14e3",
   "metadata": {},
   "source": [
    "- There are no null values left in the dataframe"
   ]
  },
  {
   "cell_type": "code",
   "execution_count": 15,
   "id": "17ab6f59",
   "metadata": {},
   "outputs": [],
   "source": [
    "# Load the csv files Amazon Prime TV shows\n",
    "titles = pd.read_csv(r'C:\\Users\\LuisV\\Desktop\\UDACITY\\Portfolio\\Amazon Prime TV shows and titles\\amazon_project\\titles.csv')"
   ]
  },
  {
   "cell_type": "code",
   "execution_count": 17,
   "id": "f471f2f7",
   "metadata": {},
   "outputs": [
    {
     "data": {
      "text/plain": [
       "(9871, 15)"
      ]
     },
     "execution_count": 17,
     "metadata": {},
     "output_type": "execute_result"
    }
   ],
   "source": [
    "# Check to see the number of rows and columns in the dataframe\n",
    "titles.shape"
   ]
  },
  {
   "cell_type": "code",
   "execution_count": 16,
   "id": "7995ded9",
   "metadata": {},
   "outputs": [
    {
     "data": {
      "text/html": [
       "<div>\n",
       "<style scoped>\n",
       "    .dataframe tbody tr th:only-of-type {\n",
       "        vertical-align: middle;\n",
       "    }\n",
       "\n",
       "    .dataframe tbody tr th {\n",
       "        vertical-align: top;\n",
       "    }\n",
       "\n",
       "    .dataframe thead th {\n",
       "        text-align: right;\n",
       "    }\n",
       "</style>\n",
       "<table border=\"1\" class=\"dataframe\">\n",
       "  <thead>\n",
       "    <tr style=\"text-align: right;\">\n",
       "      <th></th>\n",
       "      <th>id</th>\n",
       "      <th>title</th>\n",
       "      <th>type</th>\n",
       "      <th>description</th>\n",
       "      <th>release_year</th>\n",
       "      <th>age_certification</th>\n",
       "      <th>runtime</th>\n",
       "      <th>genres</th>\n",
       "      <th>production_countries</th>\n",
       "      <th>seasons</th>\n",
       "      <th>imdb_id</th>\n",
       "      <th>imdb_score</th>\n",
       "      <th>imdb_votes</th>\n",
       "      <th>tmdb_popularity</th>\n",
       "      <th>tmdb_score</th>\n",
       "    </tr>\n",
       "  </thead>\n",
       "  <tbody>\n",
       "    <tr>\n",
       "      <th>0</th>\n",
       "      <td>ts20945</td>\n",
       "      <td>The Three Stooges</td>\n",
       "      <td>SHOW</td>\n",
       "      <td>The Three Stooges were an American vaudeville ...</td>\n",
       "      <td>1934</td>\n",
       "      <td>TV-PG</td>\n",
       "      <td>19</td>\n",
       "      <td>['comedy', 'family', 'animation', 'action', 'f...</td>\n",
       "      <td>['US']</td>\n",
       "      <td>26.0</td>\n",
       "      <td>tt0850645</td>\n",
       "      <td>8.6</td>\n",
       "      <td>1092.0</td>\n",
       "      <td>15.424</td>\n",
       "      <td>7.6</td>\n",
       "    </tr>\n",
       "    <tr>\n",
       "      <th>1</th>\n",
       "      <td>tm19248</td>\n",
       "      <td>The General</td>\n",
       "      <td>MOVIE</td>\n",
       "      <td>During America’s Civil War, Union spies steal ...</td>\n",
       "      <td>1926</td>\n",
       "      <td>NaN</td>\n",
       "      <td>78</td>\n",
       "      <td>['action', 'drama', 'war', 'western', 'comedy'...</td>\n",
       "      <td>['US']</td>\n",
       "      <td>NaN</td>\n",
       "      <td>tt0017925</td>\n",
       "      <td>8.2</td>\n",
       "      <td>89766.0</td>\n",
       "      <td>8.647</td>\n",
       "      <td>8.0</td>\n",
       "    </tr>\n",
       "    <tr>\n",
       "      <th>2</th>\n",
       "      <td>tm82253</td>\n",
       "      <td>The Best Years of Our Lives</td>\n",
       "      <td>MOVIE</td>\n",
       "      <td>It's the hope that sustains the spirit of ever...</td>\n",
       "      <td>1946</td>\n",
       "      <td>NaN</td>\n",
       "      <td>171</td>\n",
       "      <td>['romance', 'war', 'drama']</td>\n",
       "      <td>['US']</td>\n",
       "      <td>NaN</td>\n",
       "      <td>tt0036868</td>\n",
       "      <td>8.1</td>\n",
       "      <td>63026.0</td>\n",
       "      <td>8.435</td>\n",
       "      <td>7.8</td>\n",
       "    </tr>\n",
       "    <tr>\n",
       "      <th>3</th>\n",
       "      <td>tm83884</td>\n",
       "      <td>His Girl Friday</td>\n",
       "      <td>MOVIE</td>\n",
       "      <td>Hildy, the journalist former wife of newspaper...</td>\n",
       "      <td>1940</td>\n",
       "      <td>NaN</td>\n",
       "      <td>92</td>\n",
       "      <td>['comedy', 'drama', 'romance']</td>\n",
       "      <td>['US']</td>\n",
       "      <td>NaN</td>\n",
       "      <td>tt0032599</td>\n",
       "      <td>7.8</td>\n",
       "      <td>57835.0</td>\n",
       "      <td>11.270</td>\n",
       "      <td>7.4</td>\n",
       "    </tr>\n",
       "    <tr>\n",
       "      <th>4</th>\n",
       "      <td>tm56584</td>\n",
       "      <td>In a Lonely Place</td>\n",
       "      <td>MOVIE</td>\n",
       "      <td>An aspiring actress begins to suspect that her...</td>\n",
       "      <td>1950</td>\n",
       "      <td>NaN</td>\n",
       "      <td>94</td>\n",
       "      <td>['thriller', 'drama', 'romance']</td>\n",
       "      <td>['US']</td>\n",
       "      <td>NaN</td>\n",
       "      <td>tt0042593</td>\n",
       "      <td>7.9</td>\n",
       "      <td>30924.0</td>\n",
       "      <td>8.273</td>\n",
       "      <td>7.6</td>\n",
       "    </tr>\n",
       "  </tbody>\n",
       "</table>\n",
       "</div>"
      ],
      "text/plain": [
       "        id                        title   type  \\\n",
       "0  ts20945            The Three Stooges   SHOW   \n",
       "1  tm19248                  The General  MOVIE   \n",
       "2  tm82253  The Best Years of Our Lives  MOVIE   \n",
       "3  tm83884              His Girl Friday  MOVIE   \n",
       "4  tm56584            In a Lonely Place  MOVIE   \n",
       "\n",
       "                                         description  release_year  \\\n",
       "0  The Three Stooges were an American vaudeville ...          1934   \n",
       "1  During America’s Civil War, Union spies steal ...          1926   \n",
       "2  It's the hope that sustains the spirit of ever...          1946   \n",
       "3  Hildy, the journalist former wife of newspaper...          1940   \n",
       "4  An aspiring actress begins to suspect that her...          1950   \n",
       "\n",
       "  age_certification  runtime  \\\n",
       "0             TV-PG       19   \n",
       "1               NaN       78   \n",
       "2               NaN      171   \n",
       "3               NaN       92   \n",
       "4               NaN       94   \n",
       "\n",
       "                                              genres production_countries  \\\n",
       "0  ['comedy', 'family', 'animation', 'action', 'f...               ['US']   \n",
       "1  ['action', 'drama', 'war', 'western', 'comedy'...               ['US']   \n",
       "2                        ['romance', 'war', 'drama']               ['US']   \n",
       "3                     ['comedy', 'drama', 'romance']               ['US']   \n",
       "4                   ['thriller', 'drama', 'romance']               ['US']   \n",
       "\n",
       "   seasons    imdb_id  imdb_score  imdb_votes  tmdb_popularity  tmdb_score  \n",
       "0     26.0  tt0850645         8.6      1092.0           15.424         7.6  \n",
       "1      NaN  tt0017925         8.2     89766.0            8.647         8.0  \n",
       "2      NaN  tt0036868         8.1     63026.0            8.435         7.8  \n",
       "3      NaN  tt0032599         7.8     57835.0           11.270         7.4  \n",
       "4      NaN  tt0042593         7.9     30924.0            8.273         7.6  "
      ]
     },
     "execution_count": 16,
     "metadata": {},
     "output_type": "execute_result"
    }
   ],
   "source": [
    "#Check the first few rows of the dataframe for movie titles\n",
    "titles.head(5)"
   ]
  },
  {
   "cell_type": "code",
   "execution_count": 22,
   "id": "bab2c377",
   "metadata": {},
   "outputs": [
    {
     "name": "stdout",
     "output_type": "stream",
     "text": [
      "<class 'pandas.core.frame.DataFrame'>\n",
      "RangeIndex: 9871 entries, 0 to 9870\n",
      "Data columns (total 15 columns):\n",
      " #   Column                Non-Null Count  Dtype  \n",
      "---  ------                --------------  -----  \n",
      " 0   id                    9871 non-null   object \n",
      " 1   title                 9871 non-null   object \n",
      " 2   type                  9871 non-null   object \n",
      " 3   description           9752 non-null   object \n",
      " 4   release_year          9871 non-null   int64  \n",
      " 5   age_certification     3384 non-null   object \n",
      " 6   runtime               9871 non-null   int64  \n",
      " 7   genres                9871 non-null   object \n",
      " 8   production_countries  9871 non-null   object \n",
      " 9   seasons               1357 non-null   float64\n",
      " 10  imdb_id               9204 non-null   object \n",
      " 11  imdb_score            8850 non-null   float64\n",
      " 12  imdb_votes            8840 non-null   float64\n",
      " 13  tmdb_popularity       9324 non-null   float64\n",
      " 14  tmdb_score            7789 non-null   float64\n",
      "dtypes: float64(5), int64(2), object(8)\n",
      "memory usage: 1.1+ MB\n"
     ]
    }
   ],
   "source": [
    "# Print the summary of the dataframe\n",
    "titles.info()"
   ]
  },
  {
   "cell_type": "code",
   "execution_count": 24,
   "id": "c8a5cd5d",
   "metadata": {},
   "outputs": [
    {
     "data": {
      "text/plain": [
       "3"
      ]
     },
     "execution_count": 24,
     "metadata": {},
     "output_type": "execute_result"
    }
   ],
   "source": [
    "# Check for the duplicates in the dataframe\n",
    "titles.duplicated().sum()"
   ]
  },
  {
   "cell_type": "markdown",
   "id": "781fcb68",
   "metadata": {},
   "source": [
    "- There are 3 duplicate rows in the dataframe"
   ]
  },
  {
   "cell_type": "code",
   "execution_count": 25,
   "id": "266d2717",
   "metadata": {},
   "outputs": [],
   "source": [
    "# Drop the duplicate rows in the movie titles dataframe\n",
    "titles = titles.drop_duplicates()"
   ]
  },
  {
   "cell_type": "code",
   "execution_count": 26,
   "id": "f48c5c75",
   "metadata": {},
   "outputs": [
    {
     "data": {
      "text/plain": [
       "0"
      ]
     },
     "execution_count": 26,
     "metadata": {},
     "output_type": "execute_result"
    }
   ],
   "source": [
    "# Check for the number of duplicates in the dataframe\n",
    "titles.duplicated().sum()"
   ]
  },
  {
   "cell_type": "markdown",
   "id": "f238d9b5",
   "metadata": {},
   "source": [
    "- Duplicate rows have been removed"
   ]
  },
  {
   "cell_type": "code",
   "execution_count": 27,
   "id": "c05153a5",
   "metadata": {},
   "outputs": [
    {
     "data": {
      "text/plain": [
       "(9868, 15)"
      ]
     },
     "execution_count": 27,
     "metadata": {},
     "output_type": "execute_result"
    }
   ],
   "source": [
    "# Check that there are now 9,868 rows instead of 9,871 since duplicates have been removed\n",
    "titles.shape"
   ]
  },
  {
   "cell_type": "code",
   "execution_count": 23,
   "id": "d327fd60",
   "metadata": {},
   "outputs": [
    {
     "data": {
      "text/plain": [
       "id                         0\n",
       "title                      0\n",
       "type                       0\n",
       "description              119\n",
       "release_year               0\n",
       "age_certification       6487\n",
       "runtime                    0\n",
       "genres                     0\n",
       "production_countries       0\n",
       "seasons                 8514\n",
       "imdb_id                  667\n",
       "imdb_score              1021\n",
       "imdb_votes              1031\n",
       "tmdb_popularity          547\n",
       "tmdb_score              2082\n",
       "dtype: int64"
      ]
     },
     "execution_count": 23,
     "metadata": {},
     "output_type": "execute_result"
    }
   ],
   "source": [
    "# Display the total number of null values for each column in the dataframe\n",
    "titles.isnull().sum()"
   ]
  },
  {
   "cell_type": "markdown",
   "id": "7a9fca31",
   "metadata": {},
   "source": [
    "- For the seasons column, over 86% of the data is missing and therefore the column will be dropped."
   ]
  },
  {
   "cell_type": "code",
   "execution_count": 28,
   "id": "c431e488",
   "metadata": {},
   "outputs": [],
   "source": [
    "#create a copy of the dataframe\n",
    "title = titles.copy()"
   ]
  },
  {
   "cell_type": "code",
   "execution_count": 32,
   "id": "c4f268d7",
   "metadata": {},
   "outputs": [
    {
     "data": {
      "text/html": [
       "<div>\n",
       "<style scoped>\n",
       "    .dataframe tbody tr th:only-of-type {\n",
       "        vertical-align: middle;\n",
       "    }\n",
       "\n",
       "    .dataframe tbody tr th {\n",
       "        vertical-align: top;\n",
       "    }\n",
       "\n",
       "    .dataframe thead th {\n",
       "        text-align: right;\n",
       "    }\n",
       "</style>\n",
       "<table border=\"1\" class=\"dataframe\">\n",
       "  <thead>\n",
       "    <tr style=\"text-align: right;\">\n",
       "      <th></th>\n",
       "      <th>id</th>\n",
       "      <th>title</th>\n",
       "      <th>type</th>\n",
       "      <th>description</th>\n",
       "      <th>release_year</th>\n",
       "      <th>age_certification</th>\n",
       "      <th>runtime</th>\n",
       "      <th>genres</th>\n",
       "      <th>production_countries</th>\n",
       "      <th>seasons</th>\n",
       "      <th>imdb_id</th>\n",
       "      <th>imdb_score</th>\n",
       "      <th>imdb_votes</th>\n",
       "      <th>tmdb_popularity</th>\n",
       "      <th>tmdb_score</th>\n",
       "    </tr>\n",
       "  </thead>\n",
       "  <tbody>\n",
       "    <tr>\n",
       "      <th>0</th>\n",
       "      <td>ts20945</td>\n",
       "      <td>The Three Stooges</td>\n",
       "      <td>SHOW</td>\n",
       "      <td>The Three Stooges were an American vaudeville ...</td>\n",
       "      <td>1934</td>\n",
       "      <td>TV-PG</td>\n",
       "      <td>19</td>\n",
       "      <td>['comedy', 'family', 'animation', 'action', 'f...</td>\n",
       "      <td>['US']</td>\n",
       "      <td>26.0</td>\n",
       "      <td>tt0850645</td>\n",
       "      <td>8.6</td>\n",
       "      <td>1092.0</td>\n",
       "      <td>15.424</td>\n",
       "      <td>7.6</td>\n",
       "    </tr>\n",
       "    <tr>\n",
       "      <th>1</th>\n",
       "      <td>tm19248</td>\n",
       "      <td>The General</td>\n",
       "      <td>MOVIE</td>\n",
       "      <td>During America’s Civil War, Union spies steal ...</td>\n",
       "      <td>1926</td>\n",
       "      <td>NaN</td>\n",
       "      <td>78</td>\n",
       "      <td>['action', 'drama', 'war', 'western', 'comedy'...</td>\n",
       "      <td>['US']</td>\n",
       "      <td>NaN</td>\n",
       "      <td>tt0017925</td>\n",
       "      <td>8.2</td>\n",
       "      <td>89766.0</td>\n",
       "      <td>8.647</td>\n",
       "      <td>8.0</td>\n",
       "    </tr>\n",
       "    <tr>\n",
       "      <th>2</th>\n",
       "      <td>tm82253</td>\n",
       "      <td>The Best Years of Our Lives</td>\n",
       "      <td>MOVIE</td>\n",
       "      <td>It's the hope that sustains the spirit of ever...</td>\n",
       "      <td>1946</td>\n",
       "      <td>NaN</td>\n",
       "      <td>171</td>\n",
       "      <td>['romance', 'war', 'drama']</td>\n",
       "      <td>['US']</td>\n",
       "      <td>NaN</td>\n",
       "      <td>tt0036868</td>\n",
       "      <td>8.1</td>\n",
       "      <td>63026.0</td>\n",
       "      <td>8.435</td>\n",
       "      <td>7.8</td>\n",
       "    </tr>\n",
       "    <tr>\n",
       "      <th>3</th>\n",
       "      <td>tm83884</td>\n",
       "      <td>His Girl Friday</td>\n",
       "      <td>MOVIE</td>\n",
       "      <td>Hildy, the journalist former wife of newspaper...</td>\n",
       "      <td>1940</td>\n",
       "      <td>NaN</td>\n",
       "      <td>92</td>\n",
       "      <td>['comedy', 'drama', 'romance']</td>\n",
       "      <td>['US']</td>\n",
       "      <td>NaN</td>\n",
       "      <td>tt0032599</td>\n",
       "      <td>7.8</td>\n",
       "      <td>57835.0</td>\n",
       "      <td>11.270</td>\n",
       "      <td>7.4</td>\n",
       "    </tr>\n",
       "    <tr>\n",
       "      <th>4</th>\n",
       "      <td>tm56584</td>\n",
       "      <td>In a Lonely Place</td>\n",
       "      <td>MOVIE</td>\n",
       "      <td>An aspiring actress begins to suspect that her...</td>\n",
       "      <td>1950</td>\n",
       "      <td>NaN</td>\n",
       "      <td>94</td>\n",
       "      <td>['thriller', 'drama', 'romance']</td>\n",
       "      <td>['US']</td>\n",
       "      <td>NaN</td>\n",
       "      <td>tt0042593</td>\n",
       "      <td>7.9</td>\n",
       "      <td>30924.0</td>\n",
       "      <td>8.273</td>\n",
       "      <td>7.6</td>\n",
       "    </tr>\n",
       "  </tbody>\n",
       "</table>\n",
       "</div>"
      ],
      "text/plain": [
       "        id                        title   type  \\\n",
       "0  ts20945            The Three Stooges   SHOW   \n",
       "1  tm19248                  The General  MOVIE   \n",
       "2  tm82253  The Best Years of Our Lives  MOVIE   \n",
       "3  tm83884              His Girl Friday  MOVIE   \n",
       "4  tm56584            In a Lonely Place  MOVIE   \n",
       "\n",
       "                                         description  release_year  \\\n",
       "0  The Three Stooges were an American vaudeville ...          1934   \n",
       "1  During America’s Civil War, Union spies steal ...          1926   \n",
       "2  It's the hope that sustains the spirit of ever...          1946   \n",
       "3  Hildy, the journalist former wife of newspaper...          1940   \n",
       "4  An aspiring actress begins to suspect that her...          1950   \n",
       "\n",
       "  age_certification  runtime  \\\n",
       "0             TV-PG       19   \n",
       "1               NaN       78   \n",
       "2               NaN      171   \n",
       "3               NaN       92   \n",
       "4               NaN       94   \n",
       "\n",
       "                                              genres production_countries  \\\n",
       "0  ['comedy', 'family', 'animation', 'action', 'f...               ['US']   \n",
       "1  ['action', 'drama', 'war', 'western', 'comedy'...               ['US']   \n",
       "2                        ['romance', 'war', 'drama']               ['US']   \n",
       "3                     ['comedy', 'drama', 'romance']               ['US']   \n",
       "4                   ['thriller', 'drama', 'romance']               ['US']   \n",
       "\n",
       "   seasons    imdb_id  imdb_score  imdb_votes  tmdb_popularity  tmdb_score  \n",
       "0     26.0  tt0850645         8.6      1092.0           15.424         7.6  \n",
       "1      NaN  tt0017925         8.2     89766.0            8.647         8.0  \n",
       "2      NaN  tt0036868         8.1     63026.0            8.435         7.8  \n",
       "3      NaN  tt0032599         7.8     57835.0           11.270         7.4  \n",
       "4      NaN  tt0042593         7.9     30924.0            8.273         7.6  "
      ]
     },
     "execution_count": 32,
     "metadata": {},
     "output_type": "execute_result"
    }
   ],
   "source": [
    "# Check the first few rows of the dataframe\n",
    "title.head(5)"
   ]
  },
  {
   "cell_type": "code",
   "execution_count": 29,
   "id": "69ec395d",
   "metadata": {},
   "outputs": [
    {
     "data": {
      "text/plain": [
       "(9868, 15)"
      ]
     },
     "execution_count": 29,
     "metadata": {},
     "output_type": "execute_result"
    }
   ],
   "source": [
    "# Check the number of rows and columns in the copy of the dataframe\n",
    "title.shape"
   ]
  },
  {
   "cell_type": "code",
   "execution_count": 31,
   "id": "0724cc2a",
   "metadata": {},
   "outputs": [
    {
     "data": {
      "text/html": [
       "<div>\n",
       "<style scoped>\n",
       "    .dataframe tbody tr th:only-of-type {\n",
       "        vertical-align: middle;\n",
       "    }\n",
       "\n",
       "    .dataframe tbody tr th {\n",
       "        vertical-align: top;\n",
       "    }\n",
       "\n",
       "    .dataframe thead th {\n",
       "        text-align: right;\n",
       "    }\n",
       "</style>\n",
       "<table border=\"1\" class=\"dataframe\">\n",
       "  <thead>\n",
       "    <tr style=\"text-align: right;\">\n",
       "      <th></th>\n",
       "      <th>id</th>\n",
       "      <th>title</th>\n",
       "      <th>type</th>\n",
       "      <th>description</th>\n",
       "      <th>release_year</th>\n",
       "      <th>age_certification</th>\n",
       "      <th>runtime</th>\n",
       "      <th>genres</th>\n",
       "      <th>production_countries</th>\n",
       "      <th>imdb_id</th>\n",
       "      <th>imdb_score</th>\n",
       "      <th>imdb_votes</th>\n",
       "      <th>tmdb_popularity</th>\n",
       "      <th>tmdb_score</th>\n",
       "    </tr>\n",
       "  </thead>\n",
       "  <tbody>\n",
       "    <tr>\n",
       "      <th>0</th>\n",
       "      <td>ts20945</td>\n",
       "      <td>The Three Stooges</td>\n",
       "      <td>SHOW</td>\n",
       "      <td>The Three Stooges were an American vaudeville ...</td>\n",
       "      <td>1934</td>\n",
       "      <td>TV-PG</td>\n",
       "      <td>19</td>\n",
       "      <td>['comedy', 'family', 'animation', 'action', 'f...</td>\n",
       "      <td>['US']</td>\n",
       "      <td>tt0850645</td>\n",
       "      <td>8.6</td>\n",
       "      <td>1092.0</td>\n",
       "      <td>15.424</td>\n",
       "      <td>7.6</td>\n",
       "    </tr>\n",
       "    <tr>\n",
       "      <th>1</th>\n",
       "      <td>tm19248</td>\n",
       "      <td>The General</td>\n",
       "      <td>MOVIE</td>\n",
       "      <td>During America’s Civil War, Union spies steal ...</td>\n",
       "      <td>1926</td>\n",
       "      <td>NaN</td>\n",
       "      <td>78</td>\n",
       "      <td>['action', 'drama', 'war', 'western', 'comedy'...</td>\n",
       "      <td>['US']</td>\n",
       "      <td>tt0017925</td>\n",
       "      <td>8.2</td>\n",
       "      <td>89766.0</td>\n",
       "      <td>8.647</td>\n",
       "      <td>8.0</td>\n",
       "    </tr>\n",
       "    <tr>\n",
       "      <th>2</th>\n",
       "      <td>tm82253</td>\n",
       "      <td>The Best Years of Our Lives</td>\n",
       "      <td>MOVIE</td>\n",
       "      <td>It's the hope that sustains the spirit of ever...</td>\n",
       "      <td>1946</td>\n",
       "      <td>NaN</td>\n",
       "      <td>171</td>\n",
       "      <td>['romance', 'war', 'drama']</td>\n",
       "      <td>['US']</td>\n",
       "      <td>tt0036868</td>\n",
       "      <td>8.1</td>\n",
       "      <td>63026.0</td>\n",
       "      <td>8.435</td>\n",
       "      <td>7.8</td>\n",
       "    </tr>\n",
       "    <tr>\n",
       "      <th>3</th>\n",
       "      <td>tm83884</td>\n",
       "      <td>His Girl Friday</td>\n",
       "      <td>MOVIE</td>\n",
       "      <td>Hildy, the journalist former wife of newspaper...</td>\n",
       "      <td>1940</td>\n",
       "      <td>NaN</td>\n",
       "      <td>92</td>\n",
       "      <td>['comedy', 'drama', 'romance']</td>\n",
       "      <td>['US']</td>\n",
       "      <td>tt0032599</td>\n",
       "      <td>7.8</td>\n",
       "      <td>57835.0</td>\n",
       "      <td>11.270</td>\n",
       "      <td>7.4</td>\n",
       "    </tr>\n",
       "    <tr>\n",
       "      <th>4</th>\n",
       "      <td>tm56584</td>\n",
       "      <td>In a Lonely Place</td>\n",
       "      <td>MOVIE</td>\n",
       "      <td>An aspiring actress begins to suspect that her...</td>\n",
       "      <td>1950</td>\n",
       "      <td>NaN</td>\n",
       "      <td>94</td>\n",
       "      <td>['thriller', 'drama', 'romance']</td>\n",
       "      <td>['US']</td>\n",
       "      <td>tt0042593</td>\n",
       "      <td>7.9</td>\n",
       "      <td>30924.0</td>\n",
       "      <td>8.273</td>\n",
       "      <td>7.6</td>\n",
       "    </tr>\n",
       "  </tbody>\n",
       "</table>\n",
       "</div>"
      ],
      "text/plain": [
       "        id                        title   type  \\\n",
       "0  ts20945            The Three Stooges   SHOW   \n",
       "1  tm19248                  The General  MOVIE   \n",
       "2  tm82253  The Best Years of Our Lives  MOVIE   \n",
       "3  tm83884              His Girl Friday  MOVIE   \n",
       "4  tm56584            In a Lonely Place  MOVIE   \n",
       "\n",
       "                                         description  release_year  \\\n",
       "0  The Three Stooges were an American vaudeville ...          1934   \n",
       "1  During America’s Civil War, Union spies steal ...          1926   \n",
       "2  It's the hope that sustains the spirit of ever...          1946   \n",
       "3  Hildy, the journalist former wife of newspaper...          1940   \n",
       "4  An aspiring actress begins to suspect that her...          1950   \n",
       "\n",
       "  age_certification  runtime  \\\n",
       "0             TV-PG       19   \n",
       "1               NaN       78   \n",
       "2               NaN      171   \n",
       "3               NaN       92   \n",
       "4               NaN       94   \n",
       "\n",
       "                                              genres production_countries  \\\n",
       "0  ['comedy', 'family', 'animation', 'action', 'f...               ['US']   \n",
       "1  ['action', 'drama', 'war', 'western', 'comedy'...               ['US']   \n",
       "2                        ['romance', 'war', 'drama']               ['US']   \n",
       "3                     ['comedy', 'drama', 'romance']               ['US']   \n",
       "4                   ['thriller', 'drama', 'romance']               ['US']   \n",
       "\n",
       "     imdb_id  imdb_score  imdb_votes  tmdb_popularity  tmdb_score  \n",
       "0  tt0850645         8.6      1092.0           15.424         7.6  \n",
       "1  tt0017925         8.2     89766.0            8.647         8.0  \n",
       "2  tt0036868         8.1     63026.0            8.435         7.8  \n",
       "3  tt0032599         7.8     57835.0           11.270         7.4  \n",
       "4  tt0042593         7.9     30924.0            8.273         7.6  "
      ]
     },
     "execution_count": 31,
     "metadata": {},
     "output_type": "execute_result"
    }
   ],
   "source": [
    "# Drop the title column from the dataframe and show the first few rows of the dataframe\n",
    "title.drop(['seasons'], axis=1).head(5)"
   ]
  },
  {
   "cell_type": "code",
   "execution_count": null,
   "id": "428ed4ee",
   "metadata": {},
   "outputs": [],
   "source": []
  }
 ],
 "metadata": {
  "kernelspec": {
   "display_name": "Python 3 (ipykernel)",
   "language": "python",
   "name": "python3"
  },
  "language_info": {
   "codemirror_mode": {
    "name": "ipython",
    "version": 3
   },
   "file_extension": ".py",
   "mimetype": "text/x-python",
   "name": "python",
   "nbconvert_exporter": "python",
   "pygments_lexer": "ipython3",
   "version": "3.9.7"
  }
 },
 "nbformat": 4,
 "nbformat_minor": 5
}
